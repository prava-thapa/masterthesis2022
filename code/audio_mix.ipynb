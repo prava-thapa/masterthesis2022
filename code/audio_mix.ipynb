{
 "cells": [
  {
   "cell_type": "code",
   "execution_count": null,
   "id": "d616fe96",
   "metadata": {},
   "outputs": [],
   "source": [
    "import os\n",
    "import pydub\n",
    "import random\n",
    "import pathlib\n",
    "from pydub import AudioSegment"
   ]
  },
  {
   "cell_type": "code",
   "execution_count": null,
   "id": "107842de",
   "metadata": {},
   "outputs": [],
   "source": [
    "# to see the directories that has backgrounfd noise\n",
    "noise_dir = 'data/bakground noise sounds'\n",
    "os.listdir(noise_dir)"
   ]
  },
  {
   "cell_type": "code",
   "execution_count": null,
   "id": "70c12637",
   "metadata": {},
   "outputs": [],
   "source": [
    "# creating a list of all the background noises\n",
    "\n",
    "hn_files = []\n",
    "hnb_files = []\n",
    "ln_files = []\n",
    "\n",
    "for file in sorted(os.listdir(noise_dir+\"/\"+'HighNoise')):\n",
    "    hn_files.append(noise_dir+'/HighNoise/'+file)\n",
    "\n",
    "for file in sorted(os.listdir(noise_dir+\"/\"+'HighNoiseBackground')):\n",
    "    hnb_files.append(noise_dir+'/HighNoiseBackground/'+file)\n",
    "\n",
    "for file in sorted(os.listdir(noise_dir+\"/\"+'LowNoise')):\n",
    "    ln_files.append(noise_dir+'/LowNoise/'+file)"
   ]
  },
  {
   "cell_type": "code",
   "execution_count": null,
   "id": "756c3841",
   "metadata": {},
   "outputs": [],
   "source": [
    "# checking the number of each type of noise\n",
    "print(len(hn_files), len(hnb_files), len(ln_files))"
   ]
  },
  {
   "cell_type": "code",
   "execution_count": null,
   "id": "d5161733",
   "metadata": {},
   "outputs": [],
   "source": [
    "random.seed(5)"
   ]
  },
  {
   "cell_type": "code",
   "execution_count": null,
   "id": "80ad3af6",
   "metadata": {},
   "outputs": [],
   "source": [
    "# all_noise_samples will have required number of randomly selected backgrounf noise samples\n",
    "hn_samples = random.sample(hn_files,10)\n",
    "hnb_samples = random.sample(hnb_files,10)\n",
    "ln_samples = random.sample(ln_files,10)\n",
    "\n",
    "all_noise_samples = hn_samples + hnb_samples + ln_samples\n",
    "\n",
    "len(all_noise_samples)"
   ]
  },
  {
   "cell_type": "code",
   "execution_count": null,
   "id": "3170034f",
   "metadata": {},
   "outputs": [],
   "source": [
    "subsamples = 'down_clicks up_clicks'.split()\n",
    "\n",
    "for s in subsamples:\n",
    "    pathlib.Path(f'../data/Subsamples_two_classes/augmented/{s}').mkdir(parents=True, exist_ok=True)\n",
    "    \n",
    "    for filename in os.listdir(f'data/Subsamples_two_classes/normal/{s}'):\n",
    "        sub_samples = f'data/Subsamples_two_classes/normal/{s}/{filename}'\n",
    "        sample = AudioSegment.from_file(sub_samples, format=\"wav\")\n",
    "        \n",
    "        for i in all_noise_samples:\n",
    "            noise = AudioSegment.from_file(i, format=\"wav\")\n",
    "            diff = sample.dBFS - noise.dBFS\n",
    "            new_bg = noise.apply_gain(diff)\n",
    "            out = sample.overlay(new_bg, position=0)\n",
    "            out.export(f'../data/Subsamples_two_classes/augmented/{s}/{filename[:-4]}+{os.path.basename(i)}', format=\"wav\")"
   ]
  }
 ],
 "metadata": {
  "kernelspec": {
   "display_name": "Python 3 (ipykernel)",
   "language": "python",
   "name": "python3"
  },
  "language_info": {
   "codemirror_mode": {
    "name": "ipython",
    "version": 3
   },
   "file_extension": ".py",
   "mimetype": "text/x-python",
   "name": "python",
   "nbconvert_exporter": "python",
   "pygments_lexer": "ipython3",
   "version": "3.9.7"
  }
 },
 "nbformat": 4,
 "nbformat_minor": 5
}
