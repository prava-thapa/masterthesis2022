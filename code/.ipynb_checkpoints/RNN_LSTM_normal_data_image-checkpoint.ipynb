{
 "cells": [
  {
   "cell_type": "code",
   "execution_count": 1,
   "id": "848faec5",
   "metadata": {},
   "outputs": [],
   "source": [
    "import os\n",
    "import pandas as pd\n",
    "import numpy as np\n",
    "import matplotlib.pyplot as plt\n",
    "%matplotlib inline\n",
    "import pathlib"
   ]
  },
  {
   "cell_type": "code",
   "execution_count": 2,
   "id": "470f5fff",
   "metadata": {},
   "outputs": [],
   "source": [
    "import keras\n",
    "import warnings\n",
    "warnings.filterwarnings('ignore')\n",
    "from keras import layers\n",
    "from keras.layers import *\n",
    "from keras.models import *\n",
    "from keras import callbacks\n",
    "from keras.callbacks import EarlyStopping"
   ]
  },
  {
   "cell_type": "code",
   "execution_count": 3,
   "id": "9ecc3d6e",
   "metadata": {},
   "outputs": [],
   "source": [
    "import tensorflow as tf"
   ]
  },
  {
   "cell_type": "code",
   "execution_count": 11,
   "id": "ce7cd0f0",
   "metadata": {},
   "outputs": [],
   "source": [
    "training_dir = '../data/normal_model_data/train'\n",
    "validation_dir = '../data/normal_model_data/val'\n",
    "test_dir = '../data/normal_model_data/test'"
   ]
  },
  {
   "cell_type": "code",
   "execution_count": 7,
   "id": "3d00d56f",
   "metadata": {},
   "outputs": [
    {
     "name": "stdout",
     "output_type": "stream",
     "text": [
      "Found 960 files belonging to 2 classes.\n"
     ]
    }
   ],
   "source": [
    "train_set = tf.keras.utils.image_dataset_from_directory(\n",
    "    training_dir,\n",
    "    labels=\"inferred\",\n",
    "    label_mode=\"int\",\n",
    "    class_names=None,\n",
    "    color_mode=\"rgb\",\n",
    "    batch_size=32,\n",
    "    image_size=(574,574),\n",
    "    shuffle=True,\n",
    "    seed=15,\n",
    "    validation_split=None\n",
    ")"
   ]
  },
  {
   "cell_type": "code",
   "execution_count": 12,
   "id": "ea097a31",
   "metadata": {},
   "outputs": [
    {
     "name": "stdout",
     "output_type": "stream",
     "text": [
      "Found 300 files belonging to 2 classes.\n"
     ]
    }
   ],
   "source": [
    "validation_set = tf.keras.utils.image_dataset_from_directory(\n",
    "    validation_dir,\n",
    "    labels=\"inferred\",\n",
    "    label_mode=\"int\",\n",
    "    class_names=None,\n",
    "    color_mode=\"rgb\",\n",
    "    batch_size=32,\n",
    "    image_size=(574,574),\n",
    "    shuffle=True,\n",
    "    seed=15,\n",
    "    validation_split=None\n",
    ")"
   ]
  },
  {
   "cell_type": "code",
   "execution_count": 13,
   "id": "12e12b16",
   "metadata": {},
   "outputs": [
    {
     "name": "stdout",
     "output_type": "stream",
     "text": [
      "Found 300 files belonging to 2 classes.\n"
     ]
    }
   ],
   "source": [
    "test_set = tf.keras.utils.image_dataset_from_directory(\n",
    "    test_dir,\n",
    "    labels=\"inferred\",\n",
    "    label_mode=\"int\",\n",
    "    class_names=None,\n",
    "    color_mode=\"rgb\",\n",
    "    batch_size=32,\n",
    "    image_size=(574,574),\n",
    "    shuffle=True,\n",
    "    seed=15,\n",
    "    validation_split=None\n",
    ")"
   ]
  },
  {
   "cell_type": "code",
   "execution_count": 14,
   "id": "a74051d8",
   "metadata": {},
   "outputs": [],
   "source": [
    "img_height, img_width = 574,574"
   ]
  },
  {
   "cell_type": "code",
   "execution_count": 15,
   "id": "43f17ede",
   "metadata": {},
   "outputs": [
    {
     "name": "stdout",
     "output_type": "stream",
     "text": [
      "['down_clicks', 'up_clicks']\n"
     ]
    }
   ],
   "source": [
    "class_names = train_set.class_names\n",
    "print(class_names)"
   ]
  },
  {
   "cell_type": "code",
   "execution_count": 16,
   "id": "6df837f4",
   "metadata": {},
   "outputs": [],
   "source": [
    "num_classes = len(class_names)\n",
    "\n",
    "model = Sequential([\n",
    "  layers.Rescaling(1./255, input_shape=(img_height, img_width, 3)),\n",
    "  layers.Conv2D(16, 3, padding='same', activation='relu'),\n",
    "  layers.MaxPooling2D(),\n",
    "  layers.Conv2D(32, 3, padding='same', activation='relu'),\n",
    "  layers.MaxPooling2D(),\n",
    "  layers.Conv2D(64, 3, padding='same', activation='relu'),\n",
    "  layers.MaxPooling2D(),\n",
    "  layers.Dropout(0.2),\n",
    "  layers.Flatten(),\n",
    "  layers.Dense(128, activation='relu'),\n",
    "  layers.Dense(num_classes)\n",
    "])"
   ]
  },
  {
   "cell_type": "code",
   "execution_count": 17,
   "id": "a7b4de84",
   "metadata": {},
   "outputs": [],
   "source": [
    "model.compile(optimizer='adam',\n",
    "              loss=tf.keras.losses.SparseCategoricalCrossentropy(from_logits=True),\n",
    "              metrics=['accuracy'])"
   ]
  },
  {
   "cell_type": "code",
   "execution_count": 18,
   "id": "623e86e3",
   "metadata": {},
   "outputs": [
    {
     "name": "stdout",
     "output_type": "stream",
     "text": [
      "Model: \"sequential\"\n",
      "_________________________________________________________________\n",
      " Layer (type)                Output Shape              Param #   \n",
      "=================================================================\n",
      " rescaling (Rescaling)       (None, 574, 574, 3)       0         \n",
      "                                                                 \n",
      " conv2d (Conv2D)             (None, 574, 574, 16)      448       \n",
      "                                                                 \n",
      " max_pooling2d (MaxPooling2D  (None, 287, 287, 16)     0         \n",
      " )                                                               \n",
      "                                                                 \n",
      " conv2d_1 (Conv2D)           (None, 287, 287, 32)      4640      \n",
      "                                                                 \n",
      " max_pooling2d_1 (MaxPooling  (None, 143, 143, 32)     0         \n",
      " 2D)                                                             \n",
      "                                                                 \n",
      " conv2d_2 (Conv2D)           (None, 143, 143, 64)      18496     \n",
      "                                                                 \n",
      " max_pooling2d_2 (MaxPooling  (None, 71, 71, 64)       0         \n",
      " 2D)                                                             \n",
      "                                                                 \n",
      " dropout (Dropout)           (None, 71, 71, 64)        0         \n",
      "                                                                 \n",
      " flatten (Flatten)           (None, 322624)            0         \n",
      "                                                                 \n",
      " dense (Dense)               (None, 128)               41296000  \n",
      "                                                                 \n",
      " dense_1 (Dense)             (None, 2)                 258       \n",
      "                                                                 \n",
      "=================================================================\n",
      "Total params: 41,319,842\n",
      "Trainable params: 41,319,842\n",
      "Non-trainable params: 0\n",
      "_________________________________________________________________\n"
     ]
    }
   ],
   "source": [
    "model.summary()"
   ]
  },
  {
   "cell_type": "code",
   "execution_count": 19,
   "id": "27c2bbad",
   "metadata": {},
   "outputs": [
    {
     "name": "stdout",
     "output_type": "stream",
     "text": [
      "Epoch 1/10\n",
      "30/30 [==============================] - 157s 5s/step - loss: 1.2970 - accuracy: 0.6979 - val_loss: 0.1800 - val_accuracy: 0.9567\n",
      "Epoch 2/10\n",
      "30/30 [==============================] - 88s 3s/step - loss: 0.0617 - accuracy: 0.9833 - val_loss: 0.2751 - val_accuracy: 0.8933\n",
      "Epoch 3/10\n",
      "30/30 [==============================] - 91s 3s/step - loss: 0.0135 - accuracy: 0.9948 - val_loss: 0.0633 - val_accuracy: 0.9733\n",
      "Epoch 4/10\n",
      "30/30 [==============================] - 91s 3s/step - loss: 0.0103 - accuracy: 0.9979 - val_loss: 0.1049 - val_accuracy: 0.9433\n",
      "Epoch 5/10\n",
      "30/30 [==============================] - 91s 3s/step - loss: 0.0081 - accuracy: 0.9979 - val_loss: 0.1249 - val_accuracy: 0.9567\n",
      "Epoch 6/10\n",
      "30/30 [==============================] - 91s 3s/step - loss: 0.0327 - accuracy: 0.9927 - val_loss: 0.0330 - val_accuracy: 0.9900\n",
      "Epoch 7/10\n",
      "30/30 [==============================] - 91s 3s/step - loss: 0.0184 - accuracy: 0.9927 - val_loss: 0.2746 - val_accuracy: 0.9133\n",
      "Epoch 8/10\n",
      "30/30 [==============================] - 91s 3s/step - loss: 0.0051 - accuracy: 0.9990 - val_loss: 0.0053 - val_accuracy: 1.0000\n",
      "Epoch 9/10\n",
      "30/30 [==============================] - 91s 3s/step - loss: 8.6190e-04 - accuracy: 1.0000 - val_loss: 0.0023 - val_accuracy: 1.0000\n",
      "Epoch 10/10\n",
      "30/30 [==============================] - 91s 3s/step - loss: 2.5125e-04 - accuracy: 1.0000 - val_loss: 4.5995e-04 - val_accuracy: 1.0000\n"
     ]
    }
   ],
   "source": [
    "epochs=10\n",
    "history = model.fit(\n",
    "  train_set,\n",
    "  validation_data = validation_set,\n",
    "  epochs=epochs\n",
    ")\n",
    "model.save_weights('Cnn_normal_data_iamge_1.h5')"
   ]
  },
  {
   "cell_type": "code",
   "execution_count": 20,
   "id": "ed61b2aa",
   "metadata": {},
   "outputs": [
    {
     "data": {
      "image/png": "[encoded data removed]",
      "text/plain": [
       "<Figure size 576x576 with 2 Axes>"
      ]
     },
     "metadata": {
      "needs_background": "light"
     },
     "output_type": "display_data"
    }
   ],
   "source": [
    "acc = history.history['accuracy']\n",
    "val_acc = history.history['val_accuracy']\n",
    "\n",
    "loss = history.history['loss']\n",
    "val_loss = history.history['val_loss']\n",
    "\n",
    "epochs_range = range(epochs)\n",
    "\n",
    "plt.figure(figsize=(8, 8))\n",
    "plt.subplot(1, 2, 1)\n",
    "plt.plot(epochs_range, acc, label='Training Accuracy')\n",
    "plt.plot(epochs_range, val_acc, label='Validation Accuracy')\n",
    "plt.legend(loc='lower right')\n",
    "plt.title('Training and Validation Accuracy')\n",
    "\n",
    "plt.subplot(1, 2, 2)\n",
    "plt.plot(epochs_range, loss, label='Training Loss')\n",
    "plt.plot(epochs_range, val_loss, label='Validation Loss')\n",
    "plt.legend(loc='upper right')\n",
    "plt.title('Training and Validation Loss')\n",
    "plt.show()"
   ]
  },
  {
   "cell_type": "code",
   "execution_count": 22,
   "id": "eb62e7ad",
   "metadata": {},
   "outputs": [
    {
     "data": {
      "text/plain": [
       "[3.475758421700448e-05, 1.0]"
      ]
     },
     "execution_count": 22,
     "metadata": {},
     "output_type": "execute_result"
    }
   ],
   "source": [
    "#Model Evaluation on training data\n",
    "\n",
    "model.evaluate_generator(generator=train_set, steps=len(train_set))"
   ]
  },
  {
   "cell_type": "code",
   "execution_count": 23,
   "id": "337e3ae8",
   "metadata": {},
   "outputs": [
    {
     "data": {
      "text/plain": [
       "[0.0004599462845362723, 1.0]"
      ]
     },
     "execution_count": 23,
     "metadata": {},
     "output_type": "execute_result"
    }
   ],
   "source": [
    "#Model Evaluation on validation data\n",
    "model.evaluate_generator(generator=validation_set, steps=len(validation_set))"
   ]
  },
  {
   "cell_type": "code",
   "execution_count": 24,
   "id": "fb208b6f",
   "metadata": {},
   "outputs": [
    {
     "data": {
      "text/plain": [
       "[0.004114873707294464, 1.0]"
      ]
     },
     "execution_count": 24,
     "metadata": {},
     "output_type": "execute_result"
    }
   ],
   "source": [
    "#Model Evaluation on test data which contains images that were not included in the training or validation sets.\n",
    "\n",
    "model.evaluate_generator(generator=test_set, steps=len(test_set))"
   ]
  },
  {
   "cell_type": "code",
   "execution_count": null,
   "id": "06a5f816",
   "metadata": {},
   "outputs": [],
   "source": []
  }
 ],
 "metadata": {
  "kernelspec": {
   "display_name": "Python 3 (ipykernel)",
   "language": "python",
   "name": "python3"
  },
  "language_info": {
   "codemirror_mode": {
    "name": "ipython",
    "version": 3
   },
   "file_extension": ".py",
   "mimetype": "text/x-python",
   "name": "python",
   "nbconvert_exporter": "python",
   "pygments_lexer": "ipython3",
   "version": "3.9.7"
  }
 },
 "nbformat": 4,
 "nbformat_minor": 5
}
