{
 "cells": [
  {
   "cell_type": "code",
   "execution_count": null,
   "id": "0cbf6083",
   "metadata": {},
   "outputs": [],
   "source": [
    "import os\n",
    "import random\n",
    "import pathlib\n",
    "from pydub import AudioSegment"
   ]
  },
  {
   "cell_type": "code",
   "execution_count": null,
   "id": "29866cd7",
   "metadata": {},
   "outputs": [],
   "source": [
    "# directory that has backgrounfd noise\n",
    "noise_dir = '../data/bakground noise sounds'\n",
    "os.listdir(noise_dir)"
   ]
  },
  {
   "cell_type": "code",
   "execution_count": null,
   "id": "fad933d5",
   "metadata": {},
   "outputs": [],
   "source": [
    "# creating a list of all the background noises\n",
    "hn_files = []\n",
    "hnb_files = []\n",
    "ln_files = []\n",
    "\n",
    "for file in sorted(os.listdir(noise_dir+\"/\"+'HighNoise')):\n",
    "    hn_files.append(noise_dir+'/HighNoise/'+file)\n",
    "\n",
    "for file in sorted(os.listdir(noise_dir+\"/\"+'HighNoiseBackground')):\n",
    "    hnb_files.append(noise_dir+'/HighNoiseBackground/'+file)\n",
    "\n",
    "for file in sorted(os.listdir(noise_dir+\"/\"+'LowNoise')):\n",
    "    ln_files.append(noise_dir+'/LowNoise/'+file)"
   ]
  },
  {
   "cell_type": "code",
   "execution_count": null,
   "id": "54431df9",
   "metadata": {},
   "outputs": [],
   "source": [
    "# checking the number of each type of noise\n",
    "print(len(hn_files), len(hnb_files), len(ln_files))"
   ]
  },
  {
   "cell_type": "code",
   "execution_count": null,
   "id": "7a36d967",
   "metadata": {},
   "outputs": [],
   "source": [
    "random.seed(5)"
   ]
  },
  {
   "cell_type": "code",
   "execution_count": null,
   "id": "1cb9fe25",
   "metadata": {},
   "outputs": [],
   "source": [
    "# all_noise_samples will have required number of randomly selected backgrounf noise samples\n",
    "hn_samples = random.sample(hn_files,1193)\n",
    "hnb_samples = random.sample(hnb_files,1169)\n",
    "ln_samples = random.sample(ln_files,1037)\n",
    "\n",
    "all_noise_samples = hn_samples + hnb_samples + ln_samples\n",
    "\n",
    "len(all_noise_samples)"
   ]
  },
  {
   "cell_type": "code",
   "execution_count": null,
   "id": "735489a9",
   "metadata": {
    "deletable": false,
    "editable": false,
    "run_control": {
     "frozen": true
    }
   },
   "outputs": [],
   "source": [
    "#first 64 seconds\n",
    "for i in all_noise_samples:\n",
    "    noise = AudioSegment.from_file(i, format=\"wav\")\n",
    "    noise = noise[:64]\n",
    "    noise.export(f'../data/subsamples_three_classes/augmented/v_noise/{os.path.basename(i)}', format=\"wav\")"
   ]
  },
  {
   "cell_type": "code",
   "execution_count": null,
   "id": "23ef1aca",
   "metadata": {
    "deletable": false,
    "editable": false,
    "run_control": {
     "frozen": true
    }
   },
   "outputs": [],
   "source": [
    "#last 64 seconds\n",
    "for i in all_noise_samples:\n",
    "    noise = AudioSegment.from_file(i, format=\"wav\")\n",
    "    noise = noise[-64:]\n",
    "    noise.export(f'../data/subsamples_three_classes/augmented/v_noise1/1{os.path.basename(i)}', format=\"wav\")"
   ]
  },
  {
   "cell_type": "code",
   "execution_count": null,
   "id": "5a084f40",
   "metadata": {
    "deletable": false,
    "editable": false,
    "run_control": {
     "frozen": true
    }
   },
   "outputs": [],
   "source": [
    "#making first 64 seconds louder, boost voulume by 6dB\n",
    "for i in all_noise_samples:\n",
    "    noise = AudioSegment.from_file(i, format=\"wav\")\n",
    "    noise = noise[:64]\n",
    "    noise = noise + 6\n",
    "    noise.export(f'../data/subsamples_three_classes/augmented/v_noise2/2{os.path.basename(i)}', format=\"wav\")"
   ]
  },
  {
   "cell_type": "code",
   "execution_count": null,
   "id": "310d1bb6",
   "metadata": {
    "deletable": false,
    "editable": false,
    "run_control": {
     "frozen": true
    }
   },
   "outputs": [],
   "source": [
    "#making first 64 seconds queiter, reduce volume by 3dB\n",
    "for i in all_noise_samples:\n",
    "    noise = AudioSegment.from_file(i, format=\"wav\")\n",
    "    noise = noise[:64]\n",
    "    noise = noise - 3\n",
    "    noise.export(f'../data/subsamples_three_classes/augmented/v_noise3/3{os.path.basename(i)}', format=\"wav\")"
   ]
  },
  {
   "cell_type": "code",
   "execution_count": null,
   "id": "c2eb2325",
   "metadata": {
    "deletable": false,
    "editable": false,
    "run_control": {
     "frozen": true
    }
   },
   "outputs": [],
   "source": [
    "#making last 64 seconds louder\n",
    "for i in all_noise_samples:\n",
    "    noise = AudioSegment.from_file(i, format=\"wav\")\n",
    "    noise = noise[-64:]\n",
    "    noise = noise + 6\n",
    "    noise.export(f'../data/subsamples_three_classes/augmented/v_noise4/4{os.path.basename(i)}', format=\"wav\")"
   ]
  },
  {
   "cell_type": "code",
   "execution_count": null,
   "id": "266386c9",
   "metadata": {
    "deletable": false,
    "editable": false,
    "run_control": {
     "frozen": true
    }
   },
   "outputs": [],
   "source": [
    "#making last 64 seconds queiter\n",
    "for i in all_noise_samples:\n",
    "    noise = AudioSegment.from_file(i, format=\"wav\")\n",
    "    noise = noise[-64:]\n",
    "    noise = noise - 3\n",
    "    noise.export(f'../data/subsamples_three_classes/augmented/v_noise5/5{os.path.basename(i)}', format=\"wav\")"
   ]
  },
  {
   "cell_type": "code",
   "execution_count": null,
   "id": "105b0134",
   "metadata": {
    "deletable": false,
    "editable": false,
    "run_control": {
     "frozen": true
    }
   },
   "outputs": [],
   "source": [
    "#slicing the middle part of the audio and then taking 64 seconds\n",
    "for i in all_noise_samples:\n",
    "    noise = AudioSegment.from_file(i, format=\"wav\")\n",
    "    midpoint = noise.duration_seconds // 2\n",
    "    leftseconds = (midpoint - 4) * 1000 #pydub workds in milliseconds\n",
    "    rightseconds = (midpoint + 4) * 1000 #pydub workds in milliseconds\n",
    "    required_slice = noise[leftseconds:rightseconds ]\n",
    "    noise = noise[:64]\n",
    "    print(len(noise))\n",
    "    noise.export(f'../data/subsamples_three_classes/augmented/v_noise6/6{os.path.basename(i)}', format=\"wav\")"
   ]
  }
 ],
 "metadata": {
  "kernelspec": {
   "display_name": "Python 3 (ipykernel)",
   "language": "python",
   "name": "python3"
  },
  "language_info": {
   "codemirror_mode": {
    "name": "ipython",
    "version": 3
   },
   "file_extension": ".py",
   "mimetype": "text/x-python",
   "name": "python",
   "nbconvert_exporter": "python",
   "pygments_lexer": "ipython3",
   "version": "3.9.7"
  }
 },
 "nbformat": 4,
 "nbformat_minor": 5
}
