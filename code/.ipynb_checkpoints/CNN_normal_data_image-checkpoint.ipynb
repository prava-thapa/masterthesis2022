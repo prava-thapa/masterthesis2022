{
 "cells": [
  {
   "cell_type": "code",
   "execution_count": 1,
   "id": "848faec5",
   "metadata": {},
   "outputs": [],
   "source": [
    "import os\n",
    "import pandas as pd\n",
    "import numpy as np\n",
    "import matplotlib.pyplot as plt\n",
    "%matplotlib inline\n",
    "import pathlib"
   ]
  },
  {
   "cell_type": "code",
   "execution_count": 2,
   "id": "470f5fff",
   "metadata": {},
   "outputs": [],
   "source": [
    "import keras\n",
    "import warnings\n",
    "warnings.filterwarnings('ignore')\n",
    "from keras import layers\n",
    "from keras.layers import *\n",
    "from keras.models import *\n",
    "from keras import callbacks\n",
    "from keras.callbacks import EarlyStopping"
   ]
  },
  {
   "cell_type": "code",
   "execution_count": 3,
   "id": "9ecc3d6e",
   "metadata": {},
   "outputs": [],
   "source": [
    "import tensorflow as tf"
   ]
  },
  {
   "cell_type": "code",
   "execution_count": 4,
   "id": "ce7cd0f0",
   "metadata": {},
   "outputs": [],
   "source": [
    "training_dir = '../data/normal_model_data/train'\n",
    "validation_dir = '../data/normal_model_data/val'\n",
    "test_dir = '../data/normal_model_data/test'"
   ]
  },
  {
   "cell_type": "code",
   "execution_count": 5,
   "id": "3d00d56f",
   "metadata": {},
   "outputs": [
    {
     "name": "stdout",
     "output_type": "stream",
     "text": [
      "Found 960 files belonging to 2 classes.\n"
     ]
    }
   ],
   "source": [
    "train_set = tf.keras.utils.image_dataset_from_directory(\n",
    "    training_dir,\n",
    "    labels=\"inferred\",\n",
    "    label_mode=\"int\",\n",
    "    class_names=None,\n",
    "    color_mode=\"rgb\",\n",
    "    batch_size=32,\n",
    "    image_size=(574,574),\n",
    "    shuffle=True,\n",
    "    seed=15,\n",
    "    validation_split=None\n",
    ")"
   ]
  },
  {
   "cell_type": "code",
   "execution_count": 6,
   "id": "ea097a31",
   "metadata": {},
   "outputs": [
    {
     "name": "stdout",
     "output_type": "stream",
     "text": [
      "Found 300 files belonging to 2 classes.\n"
     ]
    }
   ],
   "source": [
    "validation_set = tf.keras.utils.image_dataset_from_directory(\n",
    "    validation_dir,\n",
    "    labels=\"inferred\",\n",
    "    label_mode=\"int\",\n",
    "    class_names=None,\n",
    "    color_mode=\"rgb\",\n",
    "    batch_size=32,\n",
    "    image_size=(574,574),\n",
    "    shuffle=True,\n",
    "    seed=15,\n",
    "    validation_split=None\n",
    ")"
   ]
  },
  {
   "cell_type": "code",
   "execution_count": 7,
   "id": "12e12b16",
   "metadata": {},
   "outputs": [
    {
     "name": "stdout",
     "output_type": "stream",
     "text": [
      "Found 300 files belonging to 2 classes.\n"
     ]
    }
   ],
   "source": [
    "test_set = tf.keras.utils.image_dataset_from_directory(\n",
    "    test_dir,\n",
    "    labels=\"inferred\",\n",
    "    label_mode=\"int\",\n",
    "    class_names=None,\n",
    "    color_mode=\"rgb\",\n",
    "    batch_size=32,\n",
    "    image_size=(574,574),\n",
    "    shuffle=True,\n",
    "    seed=15,\n",
    "    validation_split=None\n",
    ")"
   ]
  },
  {
   "cell_type": "code",
   "execution_count": 8,
   "id": "a74051d8",
   "metadata": {},
   "outputs": [],
   "source": [
    "img_height, img_width = 574,574"
   ]
  },
  {
   "cell_type": "code",
   "execution_count": 9,
   "id": "43f17ede",
   "metadata": {},
   "outputs": [
    {
     "name": "stdout",
     "output_type": "stream",
     "text": [
      "['down_clicks', 'up_clicks']\n"
     ]
    }
   ],
   "source": [
    "class_names = train_set.class_names\n",
    "print(class_names)"
   ]
  },
  {
   "cell_type": "code",
   "execution_count": 10,
   "id": "6df837f4",
   "metadata": {},
   "outputs": [],
   "source": [
    "num_classes = len(class_names)\n",
    "\n",
    "model = Sequential([\n",
    "  layers.Rescaling(1./255, input_shape=(img_height, img_width, 3)),\n",
    "  layers.Conv2D(16, 3, padding='same', activation='relu'),\n",
    "  layers.MaxPooling2D(),\n",
    "  layers.Conv2D(32, 3, padding='same', activation='relu'),\n",
    "  layers.MaxPooling2D(),\n",
    "  layers.Conv2D(64, 3, padding='same', activation='relu'),\n",
    "  layers.MaxPooling2D(),\n",
    "  layers.Dropout(0.2),\n",
    "  layers.Flatten(),\n",
    "  layers.Dense(128, activation='relu'),\n",
    "  layers.Dense(num_classes)\n",
    "])"
   ]
  },
  {
   "cell_type": "code",
   "execution_count": 11,
   "id": "a7b4de84",
   "metadata": {},
   "outputs": [],
   "source": [
    "model.compile(optimizer='adam',\n",
    "              loss=tf.keras.losses.SparseCategoricalCrossentropy(from_logits=True),\n",
    "              metrics=['accuracy'])"
   ]
  },
  {
   "cell_type": "code",
   "execution_count": 12,
   "id": "623e86e3",
   "metadata": {},
   "outputs": [
    {
     "name": "stdout",
     "output_type": "stream",
     "text": [
      "Model: \"sequential\"\n",
      "_________________________________________________________________\n",
      " Layer (type)                Output Shape              Param #   \n",
      "=================================================================\n",
      " rescaling (Rescaling)       (None, 574, 574, 3)       0         \n",
      "                                                                 \n",
      " conv2d (Conv2D)             (None, 574, 574, 16)      448       \n",
      "                                                                 \n",
      " max_pooling2d (MaxPooling2D  (None, 287, 287, 16)     0         \n",
      " )                                                               \n",
      "                                                                 \n",
      " conv2d_1 (Conv2D)           (None, 287, 287, 32)      4640      \n",
      "                                                                 \n",
      " max_pooling2d_1 (MaxPooling  (None, 143, 143, 32)     0         \n",
      " 2D)                                                             \n",
      "                                                                 \n",
      " conv2d_2 (Conv2D)           (None, 143, 143, 64)      18496     \n",
      "                                                                 \n",
      " max_pooling2d_2 (MaxPooling  (None, 71, 71, 64)       0         \n",
      " 2D)                                                             \n",
      "                                                                 \n",
      " dropout (Dropout)           (None, 71, 71, 64)        0         \n",
      "                                                                 \n",
      " flatten (Flatten)           (None, 322624)            0         \n",
      "                                                                 \n",
      " dense (Dense)               (None, 128)               41296000  \n",
      "                                                                 \n",
      " dense_1 (Dense)             (None, 2)                 258       \n",
      "                                                                 \n",
      "=================================================================\n",
      "Total params: 41,319,842\n",
      "Trainable params: 41,319,842\n",
      "Non-trainable params: 0\n",
      "_________________________________________________________________\n"
     ]
    }
   ],
   "source": [
    "model.summary()"
   ]
  },
  {
   "cell_type": "code",
   "execution_count": 13,
   "id": "27c2bbad",
   "metadata": {},
   "outputs": [
    {
     "name": "stdout",
     "output_type": "stream",
     "text": [
      "Epoch 1/10\n",
      "30/30 [==============================] - 83s 3s/step - loss: 1.8166 - accuracy: 0.5781 - val_loss: 0.4654 - val_accuracy: 0.9333\n",
      "Epoch 2/10\n",
      "30/30 [==============================] - 84s 3s/step - loss: 0.1190 - accuracy: 0.9781 - val_loss: 0.0211 - val_accuracy: 0.9967\n",
      "Epoch 3/10\n",
      "30/30 [==============================] - 85s 3s/step - loss: 0.0112 - accuracy: 0.9948 - val_loss: 0.0741 - val_accuracy: 0.9733\n",
      "Epoch 4/10\n",
      "30/30 [==============================] - 84s 3s/step - loss: 0.0020 - accuracy: 1.0000 - val_loss: 0.0030 - val_accuracy: 1.0000\n",
      "Epoch 5/10\n",
      "30/30 [==============================] - 84s 3s/step - loss: 1.5671e-04 - accuracy: 1.0000 - val_loss: 0.0069 - val_accuracy: 0.9967\n",
      "Epoch 6/10\n",
      "30/30 [==============================] - 87s 3s/step - loss: 1.6404e-04 - accuracy: 1.0000 - val_loss: 0.0138 - val_accuracy: 0.9967\n",
      "Epoch 7/10\n",
      "30/30 [==============================] - 86s 3s/step - loss: 1.3614e-04 - accuracy: 1.0000 - val_loss: 6.4818e-04 - val_accuracy: 1.0000\n",
      "Epoch 8/10\n",
      "30/30 [==============================] - 88s 3s/step - loss: 6.0506e-05 - accuracy: 1.0000 - val_loss: 8.7791e-04 - val_accuracy: 1.0000\n",
      "Epoch 9/10\n",
      "30/30 [==============================] - 85s 3s/step - loss: 3.2521e-05 - accuracy: 1.0000 - val_loss: 6.6957e-04 - val_accuracy: 1.0000\n",
      "Epoch 10/10\n",
      "30/30 [==============================] - 87s 3s/step - loss: 3.1572e-05 - accuracy: 1.0000 - val_loss: 6.8164e-04 - val_accuracy: 1.0000\n"
     ]
    }
   ],
   "source": [
    "epochs=10\n",
    "history = model.fit(\n",
    "  train_set,\n",
    "  validation_data = validation_set,\n",
    "  epochs=epochs\n",
    ")\n",
    "\n",
    "##save the model\n",
    "model.save('../models/Cnn_normal_data_image_2.h5')"
   ]
  },
  {
   "cell_type": "code",
   "execution_count": 14,
   "id": "ed61b2aa",
   "metadata": {},
   "outputs": [
    {
     "data": {
      "image/png": "[encoded data removed]",
      "text/plain": [
       "<Figure size 576x576 with 2 Axes>"
      ]
     },
     "metadata": {
      "needs_background": "light"
     },
     "output_type": "display_data"
    }
   ],
   "source": [
    "acc = history.history['accuracy']\n",
    "val_acc = history.history['val_accuracy']\n",
    "\n",
    "loss = history.history['loss']\n",
    "val_loss = history.history['val_loss']\n",
    "\n",
    "epochs_range = range(epochs)\n",
    "\n",
    "plt.figure(figsize=(8, 8))\n",
    "plt.subplot(1, 2, 1)\n",
    "plt.plot(epochs_range, acc, label='Training Accuracy')\n",
    "plt.plot(epochs_range, val_acc, label='Validation Accuracy')\n",
    "plt.legend(loc='lower right')\n",
    "plt.title('Training and Validation Accuracy')\n",
    "\n",
    "plt.subplot(1, 2, 2)\n",
    "plt.plot(epochs_range, loss, label='Training Loss')\n",
    "plt.plot(epochs_range, val_loss, label='Validation Loss')\n",
    "plt.legend(loc='upper right')\n",
    "plt.title('Training and Validation Loss')\n",
    "plt.show()"
   ]
  },
  {
   "cell_type": "code",
   "execution_count": 15,
   "id": "eb62e7ad",
   "metadata": {},
   "outputs": [
    {
     "data": {
      "text/plain": [
       "[2.2759702915209346e-05, 1.0]"
      ]
     },
     "execution_count": 15,
     "metadata": {},
     "output_type": "execute_result"
    }
   ],
   "source": [
    "#Model Evaluation on training data\n",
    "\n",
    "model.evaluate_generator(generator=train_set, steps=len(train_set))"
   ]
  },
  {
   "cell_type": "code",
   "execution_count": 16,
   "id": "337e3ae8",
   "metadata": {},
   "outputs": [
    {
     "data": {
      "text/plain": [
       "[0.000681642850395292, 1.0]"
      ]
     },
     "execution_count": 16,
     "metadata": {},
     "output_type": "execute_result"
    }
   ],
   "source": [
    "#Model Evaluation on validation data\n",
    "model.evaluate_generator(generator=validation_set, steps=len(validation_set))"
   ]
  },
  {
   "cell_type": "code",
   "execution_count": 17,
   "id": "fb208b6f",
   "metadata": {},
   "outputs": [
    {
     "data": {
      "text/plain": [
       "[0.0002963455335702747, 1.0]"
      ]
     },
     "execution_count": 17,
     "metadata": {},
     "output_type": "execute_result"
    }
   ],
   "source": [
    "#Model Evaluation on test data which contains images that were not included in the training or validation sets.\n",
    "\n",
    "model.evaluate_generator(generator=test_set, steps=len(test_set))"
   ]
  },
  {
   "cell_type": "code",
   "execution_count": 30,
   "id": "c25c79ed",
   "metadata": {},
   "outputs": [],
   "source": [
    "predictions = model.predict(test_set)\n"
   ]
  },
  {
   "cell_type": "code",
   "execution_count": 36,
   "id": "8d19569e",
   "metadata": {},
   "outputs": [],
   "source": [
    "score = tf.nn.softmax(predictions[0])\n"
   ]
  },
  {
   "cell_type": "code",
   "execution_count": 37,
   "id": "c3e67467",
   "metadata": {},
   "outputs": [
    {
     "name": "stdout",
     "output_type": "stream",
     "text": [
      "This image most likely belongs to down_clicks with a 100.00 percent confidence.\n"
     ]
    }
   ],
   "source": [
    "print(\n",
    "    \"This image most likely belongs to {} with a {:.2f} percent confidence.\"\n",
    "    .format(class_names[np.argmax(score)], 100 * np.max(score))\n",
    ")"
   ]
  },
  {
   "cell_type": "code",
   "execution_count": 58,
   "id": "c13709c4",
   "metadata": {},
   "outputs": [],
   "source": [
    "filenames = test_set.file_paths\n",
    "#print(filenames)"
   ]
  },
  {
   "cell_type": "code",
   "execution_count": null,
   "id": "5a07c06d",
   "metadata": {},
   "outputs": [],
   "source": []
  }
 ],
 "metadata": {
  "kernelspec": {
   "display_name": "Python 3 (ipykernel)",
   "language": "python",
   "name": "python3"
  },
  "language_info": {
   "codemirror_mode": {
    "name": "ipython",
    "version": 3
   },
   "file_extension": ".py",
   "mimetype": "text/x-python",
   "name": "python",
   "nbconvert_exporter": "python",
   "pygments_lexer": "ipython3",
   "version": "3.9.7"
  }
 },
 "nbformat": 4,
 "nbformat_minor": 5
}
