{
 "cells": [
  {
   "cell_type": "code",
   "execution_count": 11,
   "metadata": {
    "executionInfo": {
     "elapsed": 200,
     "status": "ok",
     "timestamp": 1647891873451,
     "user": {
      "displayName": "Prava Thapa",
      "photoUrl": "https://lh3.googleusercontent.com/a-/AOh14GgnZ-HVoYwEXGvPeCNwrRZ5SXeOfy1EVrSS-CQPTg=s64",
      "userId": "05351308458563469837"
     },
     "user_tz": -60
    },
    "id": "GCN7vJKb0LRK"
   },
   "outputs": [],
   "source": [
    "import os\n",
    "import pandas as pd\n",
    "import numpy as np\n",
    "import matplotlib.pyplot as plt\n",
    "%matplotlib inline\n",
    "import soundfile as sf\n",
    "import librosa\n",
    "\n",
    "import scipy\n",
    "from scipy.signal import find_peaks"
   ]
  },
  {
   "cell_type": "code",
   "execution_count": 12,
   "metadata": {
    "executionInfo": {
     "elapsed": 5,
     "status": "ok",
     "timestamp": 1647891874547,
     "user": {
      "displayName": "Prava Thapa",
      "photoUrl": "https://lh3.googleusercontent.com/a-/AOh14GgnZ-HVoYwEXGvPeCNwrRZ5SXeOfy1EVrSS-CQPTg=s64",
      "userId": "05351308458563469837"
     },
     "user_tz": -60
    },
    "id": "Z7CVLwdj2HTu"
   },
   "outputs": [],
   "source": [
    "base_dir = './gdrive/MyDrive/masterthesis_data/Test_recordings_copy/firstSession_oneManikin'\n",
    "\n",
    "threshold_values = {\n",
    "    \n",
    "    base_dir+\"/Test1/MiniAnneClicker-Apple-iPhone10,6-2020-09-11_14-02-23-0_18883-0_10968\":(0.30,0.03),\n",
    "    base_dir+\"/Test1/MiniAnneClicker-Huawei-ANE-LX1-2020-09-11_08-43-30-0_282-0_207\":(0.40, 0.03),\n",
    "    base_dir+\"/Test1/MiniAnneClicker-Motorola-Nexus_6-2020-09-11_14-02-23-0_066-0_042\":(0.04, 0.03),\n",
    "    base_dir+\"/Test1/MiniAnneClicker-Samsung-SM-G920F-2020-09-11_08-43-35-0_149-0_073\":(0.20,0.03),\n",
    "\n",
    "    base_dir+\"/Test2/MiniAnneClicker-Apple-iPhone10,6-2020-09-11_14-05-43-0_18883-0_10968\":(0.10,0.03),\n",
    "    base_dir+\"/Test2/MiniAnneClicker-Huawei-ANE-LX1-2020-09-11_08-45-28-0_282-0_207\":(0.10,0.03),\n",
    "    base_dir+\"/Test2/MiniAnneClicker-Motorola-Nexus_6-2020-09-11_14-05-43-0_066-0_042\":(0.06,0.03),\n",
    "    base_dir+\"/Test2/MiniAnneClicker-Samsung-SM-G920F-2020-09-11_08-45-30-0_149-0_073\":(0.10,0.03),\n",
    "    base_dir+\"/Test2/MiniAnneClicker-Samsung-SM-G930F-2020-09-11_09-06-11-0_149-0_073\":(0.15,0.03),\n",
    "\n",
    "    base_dir+\"/Test3/MiniAnneClicker-Apple-iPhone10,6-2020-09-11_14-08-41-0_18883-0_10968\":(0.20,0.03),\n",
    "    base_dir+\"/Test3/MiniAnneClicker-Motorola-Nexus_6-2020-09-11_14-08-44-0_066-0_042\":(0.04,0.01),\n",
    "\n",
    "    #base_dir+\"/Test4/MiniAnneClicker-Huawei-ANE-LX1-2020-09-11_08-50-32-0_282-0_207\":(0.30,0.02), #31 samples\n",
    "    base_dir+\"/Test4/MiniAnneClicker-Motorola-Nexus_6-2020-09-11_14-10-56-0_066-0_042\":(0.04,0.01),\n",
    "    #base_dir+\"/Test4/MiniAnneClicker-Samsung-SM-G920F-2020-09-11_08-50-38-0_149-0_073\":(0.30,0.01), #31 samples\n",
    "    #base_dir+\"/Test4/MiniAnneClicker-Samsung-SM-G930F-2020-09-11_09-14-05-0_149-0_073\":(0.15,0.05), ## true clicks detection and false positives at the end\n",
    "\n",
    "    #base_dir+\"/Test5/MiniAnneClicker-Apple-iPhone10,6-2020-09-11_14-10-56-0_18883-0_10968\":(5.00,5.00), ## true clicks detection and false positives at the end, needs filtering\n",
    "    #base_dir+\"/Test5/MiniAnneClicker-Huawei-ANE-LX1-2020-09-11_08-50-32-0_282-0_207\":(0.0,0.50), ## false positives in between the clicks and at the end, needs filtering\n",
    "    #base_dir+\"/Test5/MiniAnneClicker-Samsung-SM-G920F-2020-09-11_08-50-38-0_149-0_073\":(0.70, 0.07), ## false positives in the front and at the end, needs filtering\n",
    "\n",
    "    base_dir+\"/Test6/MiniAnneClicker-Apple-iPhone10,6-2020-09-11_14-16-53-0_18883-0_10968\":(0.10,0.04),\n",
    "    base_dir+\"/Test6/MiniAnneClicker-Huawei-ANE-LX1-2020-09-11_08-56-20-0_282-0_207\":(0.30,0.03),\n",
    "    #base_dir+\"/Test6/MiniAnneClicker-Samsung-SM-G920F-2020-09-11_08-56-23-0_149-0_073\":(0.15, 0.05), ## true clicks detection and false positives at the end\n",
    "\n",
    "    #base_dir+\"/Test8/MiniAnneClicker-Apple-iPhone10,6-2020-09-11_14-22-16-0_18883-0_10968\":(0.45,0.05), ## false positives in between the clicks, too much noise, needs\n",
    "    base_dir+\"/Test8/MiniAnneClicker-Huawei-ANE-LX1-2020-09-11_09-24-56-0_282-0_207\":(0.40,0.03),\n",
    "    base_dir+\"/Test8/MiniAnneClicker-Motorola-Nexus_6-2020-09-11_09-26-15-0_066-0_042\":(0.15,0.03),\n",
    "    base_dir+\"/Test8/MiniAnneClicker-Samsung-SM-G920F-2020-09-11_09-25-01-0_149-0_073\":(0.25,0.04),\n",
    "    #base_dir+\"/Test8/MiniAnneClicker-Samsung-SM-G930F-2020-09-11_09-26-18-0_149-0_073\":(0.40,0.03) ##false positivies at the front, needs filtering\n",
    "    }\n",
    "default_values = (0.05, 0.03)"
   ]
  },
  {
   "cell_type": "code",
   "execution_count": 13,
   "metadata": {
    "executionInfo": {
     "elapsed": 6,
     "status": "ok",
     "timestamp": 1647891875904,
     "user": {
      "displayName": "Prava Thapa",
      "photoUrl": "https://lh3.googleusercontent.com/a-/AOh14GgnZ-HVoYwEXGvPeCNwrRZ5SXeOfy1EVrSS-CQPTg=s64",
      "userId": "05351308458563469837"
     },
     "user_tz": -60
    },
    "id": "HvXpl22z0toc"
   },
   "outputs": [],
   "source": [
    "# base_dir = './gdrive/MyDrive/masterthesis_data/Test_recordings_copy/firstSession_oneManikin'\n",
    "# up_picks_dir = './gdrive/MyDrive/masterthesis_data/Subsamples/up_peaks'\n",
    "# down_picks_dir = './gdrive/MyDrive/masterthesis_data/Subsamples/down_peaks'\n",
    "\n",
    "\n",
    "# for test_folder in sorted(os.listdir(base_dir)):\n",
    "#   for inside_folder in sorted(os.listdir(base_dir+\"/\"+test_folder)):\n",
    "#     if os.path.isdir(base_dir+\"/\"+test_folder+\"/\"+inside_folder):\n",
    "#       if os.path.exists(base_dir+\"/\"+test_folder+\"/\"+inside_folder+\"/\"+'samples.wav'):\n",
    "\n",
    "#         data = []\n",
    "        \n",
    "#         samples = base_dir+\"/\"+test_folder+\"/\"+inside_folder+\"/\"+'samples.wav'\n",
    "#         y, sr = librosa.load(samples)\n",
    "\n",
    "#         data.append(y)\n",
    "\n",
    "#         for d in data:\n",
    "#           N = len(d)\n",
    "#           T = N/float(sr)\n",
    "#           time = np.linspace(0, T, len(d))\n",
    "\n",
    "#           height, threshold = threshold_values.get(base_dir+\"/\"+test_folder+\"/\"+inside_folder, default_values)\n",
    "#           #finding peaks\n",
    "#           peaks = find_peaks(d , height=height, threshold=threshold, distance = 2000)\n",
    "#           x_peaks = peaks[0] #list containing x co-ordinates of the peaks\n",
    "#           peak_pos = time[peaks[0]]   #list containing the positions of the peaks in time domain\n",
    "\n",
    "#           distances = []\n",
    "#           for i in range(0, len(x_peaks),2):\n",
    "#             if i+1<len(x_peaks): # to avoid out of bounds error\n",
    "#               dist = x_peaks[i+1]-x_peaks[i]\n",
    "#               distances.append(dist)\n",
    "#           #print(distances)\n",
    "\n",
    "#           med = np.median(distances)\n",
    "#           # # print(med)\n",
    "\n",
    "#           up_wave = np.zeros(d.shape)\n",
    "#           down_wave = np.zeros(d.shape)\n",
    "#           # up_lefts = []\n",
    "#           # up_rights = []\n",
    "#           # down_lefts = []\n",
    "#           # down_rights = []\n",
    "#           for i in range(len(x_peaks)):\n",
    "#             peak = x_peaks[i]\n",
    "#             left_range = int(peak-med/2)\n",
    "#             right_range = int(peak+med/2)\n",
    "#             block = d[left_range:right_range]\n",
    "#             if (i+1)%2==0: #Even\n",
    "#               # up_lefts.append(left_range)\n",
    "#               # up_rights.append(right_range)\n",
    "#               up_wave[left_range:right_range] = d[left_range:right_range]\n",
    "#               sf.write(os.path.join(up_picks_dir, test_folder+inside_folder)+f'_up_{i:02d}.wav', block, sr, subtype='PCM_24')\n",
    "#               #sf.write(test_folder+inside_folder+f'_up_{i:02d}.wav', block, sr, subtype='PCM_24')\n",
    "#             else:\n",
    "#               # down_lefts.append(left_range)\n",
    "#               # down_rights.append(right_range)\n",
    "#               down_wave[left_range:right_range] = d[left_range:right_range]\n",
    "#               sf.write(os.path.join(down_picks_dir, test_folder+inside_folder)+f'_down_{i:02d}.wav', block, sr, subtype='PCM_24')\n",
    "#               #sf.write(test_folder+inside_folder+f'_down_{i:02d}.wav', block, sr, subtype='PCM_24')\n",
    "\n",
    "#           # sf.write(p+'_orig.wav', d, sr, subtype='PCM_24')\n",
    "#           # sf.write(p+'_down.wav', down_wave, sr, subtype='PCM_24')\n",
    "#           # sf.write(p+'_up.wav', down_wave, sr, subtype='PCM_24')\n",
    "    \n",
    "#           plt.figure(figsize=(14, 5))\n",
    "#           plt.plot(time, d)\n",
    "#           plt.vlines(peak_pos, 0, d.max(), color='r', alpha=0.7)\n",
    "  \n",
    "#           plt.title(test_folder+inside_folder)\n",
    "#           plt.xlabel('Time (sec)')\n",
    "#           plt.xlim(0, T)\n",
    "#           plt.ylim(0)\n",
    "#           plt.show()\n",
    "\n",
    "#           # plt.figure(figsize=(14, 5))\n",
    "#           # plt.plot(time, up_wave)\n",
    "#           # plt.vlines(time[lefts], 0, d.max(), color='r', alpha=0.7)\n",
    "#           # plt.vlines(time[rights], 0, d.max(), color='g', alpha=0.7)\n",
    "#           # plt.title(test_folder+inside_folder+\"upwave\")\n",
    "#           # plt.xlabel('Time (sec)')\n",
    "#           # plt.xlim(0, T)\n",
    "#           # plt.ylim(0,1)\n",
    "#           # plt.savefig(os.path.join(windows_dir, test_folder+inside_folder)+\".pdf\")\n",
    "#           # plt.show()\n",
    "\n",
    "#           # plt.figure(figsize=(14, 5))\n",
    "#           # plt.plot(time, down_wave)\n",
    "#           # plt.vlines(time[lefts], 0, d.max(), color='r', alpha=0.7)\n",
    "#           # plt.vlines(time[rights], 0, d.max(), color='g', alpha=0.7)\n",
    "#           # plt.title(test_folder+inside_folder+\"downwave\")\n",
    "#           # plt.xlabel('Time (sec)')\n",
    "#           # plt.xlim(0, T)\n",
    "#           # plt.ylim(0,1)\n",
    "#           # plt.savefig(os.path.join(windows_dir, test_folder+inside_folder)+\".pdf\")\n",
    "#           # plt.show()\n"
   ]
  },
  {
   "cell_type": "code",
   "execution_count": 14,
   "metadata": {
    "executionInfo": {
     "elapsed": 33058,
     "status": "ok",
     "timestamp": 1647891910003,
     "user": {
      "displayName": "Prava Thapa",
      "photoUrl": "https://lh3.googleusercontent.com/a-/AOh14GgnZ-HVoYwEXGvPeCNwrRZ5SXeOfy1EVrSS-CQPTg=s64",
      "userId": "05351308458563469837"
     },
     "user_tz": -60
    },
    "id": "Yl7AHU_63dwt"
   },
   "outputs": [],
   "source": [
    "base_dir = './gdrive/MyDrive/masterthesis_data/Test_recordings_copy/firstSession_oneManikin'\n",
    "medians = []\n",
    "\n",
    "for test_folder in sorted(os.listdir(base_dir)):\n",
    "  for inside_folder in sorted(os.listdir(base_dir+\"/\"+test_folder)):\n",
    "    if os.path.isdir(base_dir+\"/\"+test_folder+\"/\"+inside_folder):\n",
    "      if os.path.exists(base_dir+\"/\"+test_folder+\"/\"+inside_folder+\"/\"+'samples.wav'):\n",
    "\n",
    "        data = []\n",
    "        \n",
    "        \n",
    "        samples = base_dir+\"/\"+test_folder+\"/\"+inside_folder+\"/\"+'samples.wav'\n",
    "        y, sr = librosa.load(samples)\n",
    "        sr = sr*2\n",
    "\n",
    "        data.append(y)\n",
    "\n",
    "        for d in data:\n",
    "          N = len(d)\n",
    "          T = N/float(sr)\n",
    "          time = np.linspace(0, T, len(d))\n",
    "\n",
    "          height, threshold = threshold_values.get(base_dir+\"/\"+test_folder+\"/\"+inside_folder, default_values)\n",
    "          #finding peaks\n",
    "          peaks = find_peaks(d , height=height, threshold=threshold, distance = 2000)\n",
    "          x_peaks = peaks[0] #list containing x co-ordinates of the peaks\n",
    "          peak_pos = time[peaks[0]]   #list containing the positions of the peaks in time domain\n",
    "\n",
    "          distances = []\n",
    "          for i in range(0, len(x_peaks),2):\n",
    "            if i+1<len(x_peaks): # to avoid out of bounds error\n",
    "              dist = x_peaks[i+1]-x_peaks[i]\n",
    "              distances.append(dist)\n",
    "          #print(distances)\n",
    "\n",
    "          med = np.median(distances)\n",
    "          medians.append(med)\n",
    "          #print(medians)\n",
    "\n",
    "\n"
   ]
  },
  {
   "cell_type": "code",
   "execution_count": 15,
   "metadata": {
    "colab": {
     "base_uri": "https://localhost:8080/"
    },
    "executionInfo": {
     "elapsed": 232,
     "status": "ok",
     "timestamp": 1647891913054,
     "user": {
      "displayName": "Prava Thapa",
      "photoUrl": "https://lh3.googleusercontent.com/a-/AOh14GgnZ-HVoYwEXGvPeCNwrRZ5SXeOfy1EVrSS-CQPTg=s64",
      "userId": "05351308458563469837"
     },
     "user_tz": -60
    },
    "id": "doOdHCdRycGn",
    "outputId": "82531cb4-c792-42a1-ab59-8fde33b4557d"
   },
   "outputs": [
    {
     "data": {
      "text/plain": [
       "26"
      ]
     },
     "execution_count": 15,
     "metadata": {},
     "output_type": "execute_result"
    }
   ],
   "source": [
    "len(medians)"
   ]
  },
  {
   "cell_type": "code",
   "execution_count": 16,
   "metadata": {
    "colab": {
     "base_uri": "https://localhost:8080/"
    },
    "executionInfo": {
     "elapsed": 206,
     "status": "ok",
     "timestamp": 1647891922703,
     "user": {
      "displayName": "Prava Thapa",
      "photoUrl": "https://lh3.googleusercontent.com/a-/AOh14GgnZ-HVoYwEXGvPeCNwrRZ5SXeOfy1EVrSS-CQPTg=s64",
      "userId": "05351308458563469837"
     },
     "user_tz": -60
    },
    "id": "c1SyP3A-yeBk",
    "outputId": "b2a6abd7-34e0-40d6-95f1-3e7c7ff5f243"
   },
   "outputs": [
    {
     "data": {
      "text/plain": [
       "(2833.0, 9177.5, 4280.884615384615)"
      ]
     },
     "execution_count": 16,
     "metadata": {},
     "output_type": "execute_result"
    }
   ],
   "source": [
    "min(medians), max(medians), np.mean(medians)"
   ]
  },
  {
   "cell_type": "code",
   "execution_count": 17,
   "metadata": {
    "colab": {
     "base_uri": "https://localhost:8080/"
    },
    "executionInfo": {
     "elapsed": 2,
     "status": "ok",
     "timestamp": 1647891923693,
     "user": {
      "displayName": "Prava Thapa",
      "photoUrl": "https://lh3.googleusercontent.com/a-/AOh14GgnZ-HVoYwEXGvPeCNwrRZ5SXeOfy1EVrSS-CQPTg=s64",
      "userId": "05351308458563469837"
     },
     "user_tz": -60
    },
    "id": "nRRbTAU61iGz",
    "outputId": "657a0ffa-82c2-4cc5-e8c1-6bf49f569340"
   },
   "outputs": [
    {
     "data": {
      "text/plain": [
       "13.442199546485261"
      ]
     },
     "execution_count": 17,
     "metadata": {},
     "output_type": "execute_result"
    }
   ],
   "source": [
    "len(y)/sr"
   ]
  },
  {
   "cell_type": "code",
   "execution_count": 18,
   "metadata": {
    "colab": {
     "base_uri": "https://localhost:8080/"
    },
    "executionInfo": {
     "elapsed": 230,
     "status": "ok",
     "timestamp": 1647891935739,
     "user": {
      "displayName": "Prava Thapa",
      "photoUrl": "https://lh3.googleusercontent.com/a-/AOh14GgnZ-HVoYwEXGvPeCNwrRZ5SXeOfy1EVrSS-CQPTg=s64",
      "userId": "05351308458563469837"
     },
     "user_tz": -60
    },
    "id": "3_aTy8UP1sHn",
    "outputId": "5bf99e9c-be51-428b-9b1f-5a4f4490058d"
   },
   "outputs": [
    {
     "data": {
      "text/plain": [
       "44100"
      ]
     },
     "execution_count": 18,
     "metadata": {},
     "output_type": "execute_result"
    }
   ],
   "source": [
    "sr"
   ]
  },
  {
   "cell_type": "code",
   "execution_count": 19,
   "metadata": {
    "executionInfo": {
     "elapsed": 46410,
     "status": "ok",
     "timestamp": 1647891983191,
     "user": {
      "displayName": "Prava Thapa",
      "photoUrl": "https://lh3.googleusercontent.com/a-/AOh14GgnZ-HVoYwEXGvPeCNwrRZ5SXeOfy1EVrSS-CQPTg=s64",
      "userId": "05351308458563469837"
     },
     "user_tz": -60
    },
    "id": "ml9TbHLux6LU"
   },
   "outputs": [],
   "source": [
    "from itertools import count\n",
    "base_dir = './gdrive/MyDrive/masterthesis_data/Test_recordings_copy/firstSession_oneManikin'\n",
    "upclicks_dir = './gdrive/MyDrive/masterthesis_data/Subsamples/up_clicks'\n",
    "downclicks_dir = './gdrive/MyDrive/masterthesis_data/Subsamples/down_clicks'\n",
    "peak_windows_dir = './gdrive/MyDrive/masterthesis_data/peak_windows'\n",
    "\n",
    "for test_folder in sorted(os.listdir(base_dir)):\n",
    "  for inside_folder in sorted(os.listdir(base_dir+\"/\"+test_folder)):\n",
    "    if os.path.isdir(base_dir+\"/\"+test_folder+\"/\"+inside_folder):\n",
    "      if os.path.exists(base_dir+\"/\"+test_folder+\"/\"+inside_folder+\"/\"+'samples.wav'):\n",
    "\n",
    "        data = []\n",
    "        \n",
    "        samples = base_dir+\"/\"+test_folder+\"/\"+inside_folder+\"/\"+'samples.wav'\n",
    "        y, sr = librosa.load(samples)\n",
    "        sr = sr*2\n",
    "\n",
    "        data.append(y)\n",
    "\n",
    "        for d in data:\n",
    "          N = len(d)\n",
    "          T = N/float(sr)\n",
    "          time = np.linspace(0, T, len(d))\n",
    "\n",
    "          height, threshold = threshold_values.get(base_dir+\"/\"+test_folder+\"/\"+inside_folder, default_values)\n",
    "\n",
    "          #finding peaks\n",
    "          peaks = find_peaks(d , height=height, threshold=threshold, distance = 2000)\n",
    "          x_peaks = peaks[0] #list containing x co-ordinates of the peaks\n",
    "          peak_pos = time[peaks[0]]   #list containing the positions of the peaks in time domain\n",
    "\n",
    "          med = min(medians)\n",
    "\n",
    "          up_wave = np.zeros(d.shape)\n",
    "          down_wave = np.zeros(d.shape)\n",
    "\n",
    "          \n",
    "          up_lefts = []\n",
    "          up_rights = []\n",
    "          down_lefts = []\n",
    "          down_rights = []\n",
    "\n",
    "          # lefts = []\n",
    "          # rights = []\n",
    "          \n",
    "          for i in range(len(x_peaks)):\n",
    "            peak = x_peaks[i]\n",
    "            left_range = int(peak-med/2)\n",
    "            right_range = int(peak+med/2)\n",
    "            block = d[left_range:right_range]\n",
    "            if (i+1)%2==0: #even\n",
    "\n",
    "              #this is for the left and right range  to determine the window\n",
    "              # lefts.append(left_range)\n",
    "              # rights.append(right_range)\n",
    "\n",
    "              # this is for determining the left and right range to seperate up click\n",
    "              up_lefts.append(left_range)\n",
    "              up_rights.append(right_range)\n",
    "\n",
    "              up_wave[left_range:right_range] = d[left_range:right_range]\n",
    "              sf.write(os.path.join(upclicks_dir, test_folder+inside_folder)+f'_up_{i:02d}.wav', block, sr, subtype='PCM_24')\n",
    "\n",
    "              #sf.write(test_folder+inside_folder+f'_up_{i:02d}.wav', block, sr, subtype='PCM_24')\n",
    "            else:\n",
    "              # lefts.append(left_range)\n",
    "              # rights.append(right_range)\n",
    "\n",
    "              down_lefts.append(left_range)\n",
    "              down_rights.append(right_range)\n",
    "\n",
    "              down_wave[left_range:right_range] = d[left_range:right_range]\n",
    "              sf.write(os.path.join(downclicks_dir, test_folder+inside_folder)+f'_down_{i:02d}.wav', block, sr, subtype='PCM_24')\n",
    "\n",
    "              #sf.write(test_folder+inside_folder+f'_down_{i:02d}.wav', block, sr, subtype='PCM_24')\n",
    "\n",
    "          # sf.write(p+'_orig.wav', d, sr, subtype='PCM_24')\n",
    "          # sf.write(p+'_down.wav', down_wave, sr, subtype='PCM_24')\n",
    "          # sf.write(p+'_up.wav', down_wave, sr, subtype='PCM_24')\n",
    "    \n",
    "          # plt.figure(figsize=(14, 5))\n",
    "          # plt.plot(time, d)\n",
    "          # plt.vlines(peak_pos, 0, d.max(), color='r', alpha=0.7)\n",
    "  \n",
    "          # plt.title(test_folder+inside_folder)\n",
    "          # plt.xlabel('Time (sec)')\n",
    "          # plt.xlim(0, T)\n",
    "          # plt.ylim(0)\n",
    "          # plt.show()\n",
    "\n",
    "          # plt.figure(figsize=(14, 5))\n",
    "          # plt.plot(time, d)\n",
    "          # plt.vlines(time[lefts], 0, d.max(), color='r', alpha=0.7)\n",
    "          # plt.vlines(time[rights], 0, d.max(), color='g', alpha=0.7)\n",
    "          # plt.title(test_folder+inside_folder+\"Windows\")\n",
    "          # plt.xlabel('Time (sec)')\n",
    "          # plt.xlim(0, T)\n",
    "          # plt.ylim(0)\n",
    "          # plt.savefig(os.path.join(windows_dir, test_folder+inside_folder)+\".pdf\")\n",
    "          # plt.show()\n",
    "\n",
    "          # plt.figure(figsize=(14, 5))\n",
    "          # plt.plot(time, up_wave)\n",
    "          # plt.vlines(time[up_lefts], 0, d.max(), color='r', alpha=0.7)\n",
    "          # plt.vlines(time[up_rights], 0, d.max(), color='g', alpha=0.7)\n",
    "          # plt.title(test_folder+inside_folder+\"upwave\")\n",
    "          # plt.xlabel('Time (sec)')\n",
    "          # plt.xlim(0, T)\n",
    "          # plt.ylim(0,1)\n",
    "          # plt.savefig(os.path.join(peak_windows_dir, test_folder+inside_folder)+\".pdf\")\n",
    "          # plt.show()\n",
    "\n",
    "          # plt.figure(figsize=(14, 5))\n",
    "          # plt.plot(time, down_wave)\n",
    "          # plt.vlines(time[down_lefts], 0, d.max(), color='r', alpha=0.7)\n",
    "          # plt.vlines(time[down_rights], 0, d.max(), color='g', alpha=0.7)\n",
    "          # plt.title(test_folder+inside_folder+\"downwave\")\n",
    "          # plt.xlabel('Time (sec)')\n",
    "          # plt.xlim(0, T)\n",
    "          # plt.ylim(0)\n",
    "          # plt.savefig(os.path.join(peak_windows_dir, test_folder+inside_folder)+\".pdf\")\n",
    "          # plt.show()\n"
   ]
  },
  {
   "cell_type": "code",
   "execution_count": null,
   "metadata": {
    "colab": {
     "base_uri": "https://localhost:8080/",
     "height": 337
    },
    "executionInfo": {
     "elapsed": 423,
     "status": "ok",
     "timestamp": 1647200712139,
     "user": {
      "displayName": "Prava Thapa",
      "photoUrl": "https://lh3.googleusercontent.com/a-/AOh14GgnZ-HVoYwEXGvPeCNwrRZ5SXeOfy1EVrSS-CQPTg=s64",
      "userId": "05351308458563469837"
     },
     "user_tz": -60
    },
    "id": "WMadQc2FzP4J",
    "outputId": "e317df34-ed90-440a-c8b7-0406a67a5db6"
   },
   "outputs": [
    {
     "data": {
      "text/plain": [
       "[<matplotlib.lines.Line2D at 0x7f7b7d10bb50>]"
      ]
     },
     "execution_count": 151,
     "metadata": {},
     "output_type": "execute_result"
    },
    {
     "data": {
      "image/png": "[encoded data removed]",
      "text/plain": [
       "<Figure size 1008x360 with 1 Axes>"
      ]
     },
     "metadata": {
      "needs_background": "light"
     },
     "output_type": "display_data"
    }
   ],
   "source": [
    "plt.figure(figsize=(14, 5))\n",
    "plt.plot(block[1400:1500])"
   ]
  },
  {
   "cell_type": "code",
   "execution_count": null,
   "metadata": {
    "colab": {
     "base_uri": "https://localhost:8080/"
    },
    "executionInfo": {
     "elapsed": 9,
     "status": "ok",
     "timestamp": 1647201345324,
     "user": {
      "displayName": "Prava Thapa",
      "photoUrl": "https://lh3.googleusercontent.com/a-/AOh14GgnZ-HVoYwEXGvPeCNwrRZ5SXeOfy1EVrSS-CQPTg=s64",
      "userId": "05351308458563469837"
     },
     "user_tz": -60
    },
    "id": "frJ1n8KZzULk",
    "outputId": "da6f30b5-0e4a-44b7-85e0-e134618654d4"
   },
   "outputs": [
    {
     "data": {
      "text/plain": [
       "0.06424036281179138"
      ]
     },
     "execution_count": 162,
     "metadata": {},
     "output_type": "execute_result"
    }
   ],
   "source": [
    "min(medians)/44100"
   ]
  },
  {
   "cell_type": "code",
   "execution_count": null,
   "metadata": {
    "colab": {
     "base_uri": "https://localhost:8080/"
    },
    "executionInfo": {
     "elapsed": 258,
     "status": "ok",
     "timestamp": 1647202296986,
     "user": {
      "displayName": "Prava Thapa",
      "photoUrl": "https://lh3.googleusercontent.com/a-/AOh14GgnZ-HVoYwEXGvPeCNwrRZ5SXeOfy1EVrSS-CQPTg=s64",
      "userId": "05351308458563469837"
     },
     "user_tz": -60
    },
    "id": "czI_FbZq591o",
    "outputId": "00c23004-0b0f-4ad8-c33f-b3a422be7db2"
   },
   "outputs": [
    {
     "data": {
      "text/plain": [
       "2822.4"
      ]
     },
     "execution_count": 167,
     "metadata": {},
     "output_type": "execute_result"
    }
   ],
   "source": [
    "0.064*44100"
   ]
  },
  {
   "cell_type": "code",
   "execution_count": null,
   "metadata": {
    "colab": {
     "base_uri": "https://localhost:8080/"
    },
    "executionInfo": {
     "elapsed": 267,
     "status": "ok",
     "timestamp": 1647202003414,
     "user": {
      "displayName": "Prava Thapa",
      "photoUrl": "https://lh3.googleusercontent.com/a-/AOh14GgnZ-HVoYwEXGvPeCNwrRZ5SXeOfy1EVrSS-CQPTg=s64",
      "userId": "05351308458563469837"
     },
     "user_tz": -60
    },
    "id": "4kK3KE5M19y5",
    "outputId": "bbbeef6f-5b49-49bd-8d12-13820e7ac5b0"
   },
   "outputs": [
    {
     "data": {
      "text/plain": [
       "44100"
      ]
     },
     "execution_count": 163,
     "metadata": {},
     "output_type": "execute_result"
    }
   ],
   "source": [
    "sr*2"
   ]
  },
  {
   "cell_type": "code",
   "execution_count": null,
   "metadata": {
    "colab": {
     "base_uri": "https://localhost:8080/"
    },
    "executionInfo": {
     "elapsed": 37123,
     "status": "ok",
     "timestamp": 1647202067741,
     "user": {
      "displayName": "Prava Thapa",
      "photoUrl": "https://lh3.googleusercontent.com/a-/AOh14GgnZ-HVoYwEXGvPeCNwrRZ5SXeOfy1EVrSS-CQPTg=s64",
      "userId": "05351308458563469837"
     },
     "user_tz": -60
    },
    "id": "VrEonXbX4-a9",
    "outputId": "7a9a218f-c6da-4d2c-aeb8-a5db45c01070"
   },
   "outputs": [
    {
     "name": "stdout",
     "output_type": "stream",
     "text": [
      "22050\n",
      "22050\n",
      "22050\n",
      "22050\n",
      "22050\n",
      "22050\n",
      "22050\n",
      "22050\n",
      "22050\n",
      "22050\n",
      "22050\n",
      "22050\n",
      "22050\n",
      "22050\n",
      "22050\n",
      "22050\n",
      "22050\n",
      "22050\n",
      "22050\n",
      "22050\n",
      "22050\n",
      "22050\n",
      "22050\n",
      "22050\n",
      "22050\n",
      "22050\n",
      "22050\n",
      "22050\n"
     ]
    }
   ],
   "source": [
    "for test_folder in sorted(os.listdir(base_dir)):\n",
    "  for inside_folder in sorted(os.listdir(base_dir+\"/\"+test_folder)):\n",
    "    if os.path.isdir(base_dir+\"/\"+test_folder+\"/\"+inside_folder):\n",
    "      if os.path.exists(base_dir+\"/\"+test_folder+\"/\"+inside_folder+\"/\"+'samples.wav'):\n",
    "\n",
    "        data = []\n",
    "        \n",
    "        samples = base_dir+\"/\"+test_folder+\"/\"+inside_folder+\"/\"+'samples.wav'\n",
    "        y, sr = librosa.load(samples)\n",
    "        print(sr)"
   ]
  }
 ],
 "metadata": {
  "colab": {
   "authorship_tag": "ABX9TyPd2/JagSnXH2EKhZnuupbR",
   "collapsed_sections": [],
   "name": "Clicks Isolation.ipynb",
   "provenance": []
  },
  "kernelspec": {
   "display_name": "Python 3 (ipykernel)",
   "language": "python",
   "name": "python3"
  },
  "language_info": {
   "codemirror_mode": {
    "name": "ipython",
    "version": 3
   },
   "file_extension": ".py",
   "mimetype": "text/x-python",
   "name": "python",
   "nbconvert_exporter": "python",
   "pygments_lexer": "ipython3",
   "version": "3.9.7"
  }
 },
 "nbformat": 4,
 "nbformat_minor": 1
}
