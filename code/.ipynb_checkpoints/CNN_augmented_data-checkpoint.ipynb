{
 "cells": [
  {
   "cell_type": "markdown",
   "metadata": {
    "id": "2NLIt7bawcSb"
   },
   "source": [
    "### Imports"
   ]
  },
  {
   "cell_type": "code",
   "execution_count": 1,
   "metadata": {
    "executionInfo": {
     "elapsed": 2287,
     "status": "ok",
     "timestamp": 1649656270502,
     "user": {
      "displayName": "Prava Thapa",
      "userId": "05351308458563469837"
     },
     "user_tz": -120
    },
    "id": "REN99CEO1tVi"
   },
   "outputs": [],
   "source": [
    "import os\n",
    "import pandas as pd\n",
    "import numpy as np\n",
    "import matplotlib.pyplot as plt\n",
    "%matplotlib inline\n",
    "import pathlib\n"
   ]
  },
  {
   "cell_type": "code",
   "execution_count": 2,
   "metadata": {},
   "outputs": [],
   "source": [
    "\n",
    "import soundfile as sf\n",
    "import scipy\n",
    "from scipy.signal import find_peaks"
   ]
  },
  {
   "cell_type": "code",
   "execution_count": 3,
   "metadata": {
    "scrolled": true
   },
   "outputs": [],
   "source": [
    "#pip install keras"
   ]
  },
  {
   "cell_type": "code",
   "execution_count": 4,
   "metadata": {},
   "outputs": [],
   "source": [
    "#pip install tensorflow"
   ]
  },
  {
   "cell_type": "code",
   "execution_count": 5,
   "metadata": {
    "executionInfo": {
     "elapsed": 2500,
     "status": "ok",
     "timestamp": 1649656275188,
     "user": {
      "displayName": "Prava Thapa",
      "userId": "05351308458563469837"
     },
     "user_tz": -120
    },
    "id": "m23l44E21kyp"
   },
   "outputs": [],
   "source": [
    "import keras\n",
    "import warnings\n",
    "warnings.filterwarnings('ignore')\n",
    "from keras import layers\n",
    "from keras.layers import *\n",
    "from keras.models import *\n",
    "from keras import callbacks\n",
    "from keras.callbacks import EarlyStopping"
   ]
  },
  {
   "cell_type": "code",
   "execution_count": 6,
   "metadata": {
    "executionInfo": {
     "elapsed": 244,
     "status": "ok",
     "timestamp": 1649656276687,
     "user": {
      "displayName": "Prava Thapa",
      "userId": "05351308458563469837"
     },
     "user_tz": -120
    },
    "id": "7EPuKuFVCij-"
   },
   "outputs": [],
   "source": [
    "import tensorflow as tf"
   ]
  },
  {
   "cell_type": "code",
   "execution_count": 7,
   "metadata": {
    "id": "1n6M9HEPj1m2"
   },
   "outputs": [],
   "source": [
    "#next step would be to split the data into the train set and test set\n",
    "\n",
    "#!pip install split-folders"
   ]
  },
  {
   "cell_type": "code",
   "execution_count": 8,
   "metadata": {
    "id": "1FTlxfXvjcKN"
   },
   "outputs": [],
   "source": [
    "# #we will split data by 80% in training, 10% validation and 10% in the test set\n",
    "\n",
    "# import splitfolders as sp\n",
    "# sp.ratio('data/img_data', output=\"data/model_data\", seed=1337, ratio=(.8, .1, .1))"
   ]
  },
  {
   "cell_type": "markdown",
   "metadata": {
    "id": "VsjjiwYNwDqu"
   },
   "source": [
    "### Testing the model for spectrograms"
   ]
  },
  {
   "cell_type": "code",
   "execution_count": 9,
   "metadata": {
    "id": "EPTOOrj1j6vN"
   },
   "outputs": [],
   "source": [
    "training_dir = 'data/model_data/train'\n",
    "validation_dir = 'data/model_data/val'\n",
    "test_dir = 'data/model_data/test'"
   ]
  },
  {
   "cell_type": "code",
   "execution_count": 10,
   "metadata": {
    "colab": {
     "base_uri": "https://localhost:8080/"
    },
    "executionInfo": {
     "elapsed": 1079,
     "status": "ok",
     "timestamp": 1648505394493,
     "user": {
      "displayName": "Prava Thapa",
      "photoUrl": "https://lh3.googleusercontent.com/a-/AOh14GgnZ-HVoYwEXGvPeCNwrRZ5SXeOfy1EVrSS-CQPTg=s64",
      "userId": "05351308458563469837"
     },
     "user_tz": -120
    },
    "id": "fbWIPP-iVmqj",
    "outputId": "fb8d23b3-58c1-4ae0-83c9-430afcfb4de1"
   },
   "outputs": [
    {
     "name": "stdout",
     "output_type": "stream",
     "text": [
      "Found 37440 files belonging to 2 classes.\n"
     ]
    }
   ],
   "source": [
    "train_set = tf.keras.utils.image_dataset_from_directory(\n",
    "    training_dir,\n",
    "    labels=\"inferred\",\n",
    "    label_mode=\"int\",\n",
    "    class_names=None,\n",
    "    color_mode=\"rgb\",\n",
    "    batch_size=32,\n",
    "    image_size=(574,574),\n",
    "    shuffle=True,\n",
    "    seed=15,\n",
    "    validation_split=None\n",
    ")"
   ]
  },
  {
   "cell_type": "code",
   "execution_count": 11,
   "metadata": {
    "colab": {
     "base_uri": "https://localhost:8080/"
    },
    "executionInfo": {
     "elapsed": 204,
     "status": "ok",
     "timestamp": 1648505399103,
     "user": {
      "displayName": "Prava Thapa",
      "photoUrl": "https://lh3.googleusercontent.com/a-/AOh14GgnZ-HVoYwEXGvPeCNwrRZ5SXeOfy1EVrSS-CQPTg=s64",
      "userId": "05351308458563469837"
     },
     "user_tz": -120
    },
    "id": "Le_334LFc6MK",
    "outputId": "44c2445b-ac13-4e78-fe7d-7c5d7d4b2405"
   },
   "outputs": [
    {
     "name": "stdout",
     "output_type": "stream",
     "text": [
      "Found 4680 files belonging to 2 classes.\n"
     ]
    }
   ],
   "source": [
    "validation_set = tf.keras.utils.image_dataset_from_directory(\n",
    "    validation_dir,\n",
    "    labels=\"inferred\",\n",
    "    label_mode=\"int\",\n",
    "    class_names=None,\n",
    "    color_mode=\"rgb\",\n",
    "    batch_size=32,\n",
    "    image_size=(574,574),\n",
    "    shuffle=True,\n",
    "    seed=15,\n",
    "    validation_split=None\n",
    ")"
   ]
  },
  {
   "cell_type": "code",
   "execution_count": 12,
   "metadata": {
    "colab": {
     "base_uri": "https://localhost:8080/"
    },
    "executionInfo": {
     "elapsed": 263,
     "status": "ok",
     "timestamp": 1648505400401,
     "user": {
      "displayName": "Prava Thapa",
      "photoUrl": "https://lh3.googleusercontent.com/a-/AOh14GgnZ-HVoYwEXGvPeCNwrRZ5SXeOfy1EVrSS-CQPTg=s64",
      "userId": "05351308458563469837"
     },
     "user_tz": -120
    },
    "id": "pEskn8iuXpVe",
    "outputId": "22affba2-6afa-4b15-8fe3-b79cfa98fa3e"
   },
   "outputs": [
    {
     "name": "stdout",
     "output_type": "stream",
     "text": [
      "Found 4680 files belonging to 2 classes.\n"
     ]
    }
   ],
   "source": [
    "test_set = tf.keras.utils.image_dataset_from_directory(\n",
    "    test_dir,\n",
    "    labels=\"inferred\",\n",
    "    label_mode=\"int\",\n",
    "    class_names=None,\n",
    "    color_mode=\"rgb\",\n",
    "    batch_size=32,\n",
    "    image_size=(574,574),\n",
    "    shuffle=True,\n",
    "    seed=15,\n",
    "    validation_split=None\n",
    ")"
   ]
  },
  {
   "cell_type": "code",
   "execution_count": 13,
   "metadata": {
    "colab": {
     "base_uri": "https://localhost:8080/"
    },
    "executionInfo": {
     "elapsed": 5336,
     "status": "ok",
     "timestamp": 1648505409401,
     "user": {
      "displayName": "Prava Thapa",
      "photoUrl": "https://lh3.googleusercontent.com/a-/AOh14GgnZ-HVoYwEXGvPeCNwrRZ5SXeOfy1EVrSS-CQPTg=s64",
      "userId": "05351308458563469837"
     },
     "user_tz": -120
    },
    "id": "9ceOhLoqq-NX",
    "outputId": "f6b58574-046b-49be-e711-3296d925e64f"
   },
   "outputs": [],
   "source": [
    "# for image_batch, labels_batch in train_set:\n",
    "#     print(image_batch.shape)\n",
    "#     print(labels_batch.shape)\n",
    "#     break"
   ]
  },
  {
   "cell_type": "code",
   "execution_count": 14,
   "metadata": {
    "id": "PDKKj60MX-XF"
   },
   "outputs": [],
   "source": [
    "img_height, img_width = 574,574"
   ]
  },
  {
   "cell_type": "code",
   "execution_count": 15,
   "metadata": {
    "colab": {
     "base_uri": "https://localhost:8080/"
    },
    "executionInfo": {
     "elapsed": 288,
     "status": "ok",
     "timestamp": 1648505412716,
     "user": {
      "displayName": "Prava Thapa",
      "photoUrl": "https://lh3.googleusercontent.com/a-/AOh14GgnZ-HVoYwEXGvPeCNwrRZ5SXeOfy1EVrSS-CQPTg=s64",
      "userId": "05351308458563469837"
     },
     "user_tz": -120
    },
    "id": "u65O4FWaXbR_",
    "outputId": "e484ff96-c5a6-4036-d8cc-aacb92d5652e"
   },
   "outputs": [
    {
     "name": "stdout",
     "output_type": "stream",
     "text": [
      "['down_clicks', 'up_clicks']\n"
     ]
    }
   ],
   "source": [
    "class_names = train_set.class_names\n",
    "print(class_names)"
   ]
  },
  {
   "cell_type": "code",
   "execution_count": 16,
   "metadata": {
    "id": "CoMddjneVU0L"
   },
   "outputs": [],
   "source": [
    "# import matplotlib.pyplot as plt\n",
    "\n",
    "# plt.figure(figsize=(10, 10))\n",
    "# for images, labels in train_set.take(1):\n",
    "#   for i in range(9):\n",
    "#     ax = plt.subplot(3, 3, i + 1)\n",
    "#     plt.imshow(images[i].numpy().astype(\"uint8\"))\n",
    "#     plt.title(class_names[labels[i]])\n",
    "#     plt.axis(\"off\")"
   ]
  },
  {
   "cell_type": "code",
   "execution_count": 17,
   "metadata": {
    "id": "A_g7eyYbrSYW"
   },
   "outputs": [],
   "source": [
    "AUTOTUNE = tf.data.AUTOTUNE\n",
    "\n",
    "train_ds = train_set.cache().shuffle(1000).prefetch(buffer_size=AUTOTUNE)\n",
    "val_ds = validation_set.cache().prefetch(buffer_size=AUTOTUNE)\n",
    "test_ds = test_set.cache().prefetch(buffer_size=AUTOTUNE)"
   ]
  },
  {
   "cell_type": "markdown",
   "metadata": {
    "id": "APlgb2N4dv4o"
   },
   "source": [
    "### Model Creation"
   ]
  },
  {
   "cell_type": "code",
   "execution_count": 18,
   "metadata": {
    "id": "gPNJ8EaEX4f4"
   },
   "outputs": [],
   "source": [
    "num_classes = len(class_names)\n",
    "\n",
    "model = Sequential([\n",
    "  layers.Rescaling(1./255, input_shape=(img_height, img_width, 3)),\n",
    "  layers.Conv2D(16, 3, padding='same', activation='relu'),\n",
    "  layers.MaxPooling2D(),\n",
    "  layers.Conv2D(32, 3, padding='same', activation='relu'),\n",
    "  layers.MaxPooling2D(),\n",
    "  layers.Conv2D(64, 3, padding='same', activation='relu'),\n",
    "  layers.MaxPooling2D(),\n",
    "  layers.Dropout(0.2),\n",
    "  layers.Flatten(),\n",
    "  layers.Dense(128, activation='relu'),\n",
    "  layers.Dense(num_classes)\n",
    "])\n",
    "\n"
   ]
  },
  {
   "cell_type": "markdown",
   "metadata": {
    "id": "_osO_eknd2V-"
   },
   "source": [
    "### Model Compilation"
   ]
  },
  {
   "cell_type": "code",
   "execution_count": 19,
   "metadata": {
    "id": "iXRg8re1O3CO"
   },
   "outputs": [],
   "source": [
    "model.compile(optimizer='adam',\n",
    "              loss=tf.keras.losses.SparseCategoricalCrossentropy(from_logits=True),\n",
    "              metrics=['accuracy'])"
   ]
  },
  {
   "cell_type": "markdown",
   "metadata": {
    "id": "bwNzNeUad7g0"
   },
   "source": [
    "### Model Summary"
   ]
  },
  {
   "cell_type": "code",
   "execution_count": 20,
   "metadata": {
    "colab": {
     "base_uri": "https://localhost:8080/"
    },
    "executionInfo": {
     "elapsed": 214,
     "status": "ok",
     "timestamp": 1648503853299,
     "user": {
      "displayName": "Prava Thapa",
      "photoUrl": "https://lh3.googleusercontent.com/a-/AOh14GgnZ-HVoYwEXGvPeCNwrRZ5SXeOfy1EVrSS-CQPTg=s64",
      "userId": "05351308458563469837"
     },
     "user_tz": -120
    },
    "id": "st8W53o1YFxY",
    "outputId": "d1ff5780-ed00-41c2-d9f7-69ec0a7d7a9f"
   },
   "outputs": [
    {
     "name": "stdout",
     "output_type": "stream",
     "text": [
      "Model: \"sequential\"\n",
      "_________________________________________________________________\n",
      " Layer (type)                Output Shape              Param #   \n",
      "=================================================================\n",
      " rescaling (Rescaling)       (None, 574, 574, 3)       0         \n",
      "                                                                 \n",
      " conv2d (Conv2D)             (None, 574, 574, 16)      448       \n",
      "                                                                 \n",
      " max_pooling2d (MaxPooling2D  (None, 287, 287, 16)     0         \n",
      " )                                                               \n",
      "                                                                 \n",
      " conv2d_1 (Conv2D)           (None, 287, 287, 32)      4640      \n",
      "                                                                 \n",
      " max_pooling2d_1 (MaxPooling  (None, 143, 143, 32)     0         \n",
      " 2D)                                                             \n",
      "                                                                 \n",
      " conv2d_2 (Conv2D)           (None, 143, 143, 64)      18496     \n",
      "                                                                 \n",
      " max_pooling2d_2 (MaxPooling  (None, 71, 71, 64)       0         \n",
      " 2D)                                                             \n",
      "                                                                 \n",
      " dropout (Dropout)           (None, 71, 71, 64)        0         \n",
      "                                                                 \n",
      " flatten (Flatten)           (None, 322624)            0         \n",
      "                                                                 \n",
      " dense (Dense)               (None, 128)               41296000  \n",
      "                                                                 \n",
      " dense_1 (Dense)             (None, 2)                 258       \n",
      "                                                                 \n",
      "=================================================================\n",
      "Total params: 41,319,842\n",
      "Trainable params: 41,319,842\n",
      "Non-trainable params: 0\n",
      "_________________________________________________________________\n"
     ]
    }
   ],
   "source": [
    "model.summary()"
   ]
  },
  {
   "cell_type": "markdown",
   "metadata": {
    "id": "ZhHgA2HbeHDP"
   },
   "source": [
    "### Training the Model"
   ]
  },
  {
   "cell_type": "code",
   "execution_count": 21,
   "metadata": {
    "colab": {
     "base_uri": "https://localhost:8080/"
    },
    "executionInfo": {
     "elapsed": 410417,
     "status": "ok",
     "timestamp": 1648504270369,
     "user": {
      "displayName": "Prava Thapa",
      "photoUrl": "https://lh3.googleusercontent.com/a-/AOh14GgnZ-HVoYwEXGvPeCNwrRZ5SXeOfy1EVrSS-CQPTg=s64",
      "userId": "05351308458563469837"
     },
     "user_tz": -120
    },
    "id": "H6_3gN7vYFrF",
    "outputId": "933946dc-2be0-4f37-bbc0-170570fcab3b"
   },
   "outputs": [
    {
     "name": "stdout",
     "output_type": "stream",
     "text": [
      "Epoch 1/10\n",
      "1170/1170 [==============================] - 3404s 3s/step - loss: 0.1176 - accuracy: 0.9618 - val_loss: 7.9383e-04 - val_accuracy: 1.0000\n",
      "Epoch 2/10\n",
      "1170/1170 [==============================] - 3413s 3s/step - loss: 0.0087 - accuracy: 0.9970 - val_loss: 0.0061 - val_accuracy: 0.9985\n",
      "Epoch 3/10\n",
      "1170/1170 [==============================] - 3392s 3s/step - loss: 0.0053 - accuracy: 0.9981 - val_loss: 0.0011 - val_accuracy: 0.9994\n",
      "Epoch 4/10\n",
      "1170/1170 [==============================] - 3439s 3s/step - loss: 0.0702 - accuracy: 0.9711 - val_loss: 0.0231 - val_accuracy: 0.9921\n",
      "Epoch 5/10\n",
      "1170/1170 [==============================] - 3448s 3s/step - loss: 0.0083 - accuracy: 0.9972 - val_loss: 8.2170e-04 - val_accuracy: 0.9998\n",
      "Epoch 6/10\n",
      "1170/1170 [==============================] - 3564s 3s/step - loss: 0.0096 - accuracy: 0.9971 - val_loss: 7.5855e-05 - val_accuracy: 1.0000\n",
      "Epoch 7/10\n",
      "1170/1170 [==============================] - 3373s 3s/step - loss: 0.0051 - accuracy: 0.9983 - val_loss: 7.7193e-04 - val_accuracy: 0.9998\n",
      "Epoch 8/10\n",
      "1170/1170 [==============================] - 3320s 3s/step - loss: 0.0057 - accuracy: 0.9982 - val_loss: 3.2449e-04 - val_accuracy: 0.9998\n",
      "Epoch 9/10\n",
      "1170/1170 [==============================] - 3467s 3s/step - loss: 0.0064 - accuracy: 0.9979 - val_loss: 2.5417e-04 - val_accuracy: 1.0000\n",
      "Epoch 10/10\n",
      "1170/1170 [==============================] - 3497s 3s/step - loss: 0.0039 - accuracy: 0.9988 - val_loss: 0.0013 - val_accuracy: 0.9996\n"
     ]
    }
   ],
   "source": [
    "epochs=10\n",
    "history = model.fit(\n",
    "  train_set,\n",
    "  validation_data = validation_set,\n",
    "  epochs=epochs\n",
    ")"
   ]
  },
  {
   "cell_type": "markdown",
   "metadata": {
    "id": "kditfD03eEVW"
   },
   "source": [
    "### Visualizing training result"
   ]
  },
  {
   "cell_type": "code",
   "execution_count": 22,
   "metadata": {
    "colab": {
     "base_uri": "https://localhost:8080/",
     "height": 499
    },
    "executionInfo": {
     "elapsed": 803,
     "status": "ok",
     "timestamp": 1648504414043,
     "user": {
      "displayName": "Prava Thapa",
      "photoUrl": "https://lh3.googleusercontent.com/a-/AOh14GgnZ-HVoYwEXGvPeCNwrRZ5SXeOfy1EVrSS-CQPTg=s64",
      "userId": "05351308458563469837"
     },
     "user_tz": -120
    },
    "id": "CLEQVb8AYFiB",
    "outputId": "1f3ca6d4-7f0d-44ea-f6ee-8843122f2bea"
   },
   "outputs": [
    {
     "data": {
      "image/png": "[encoded data removed]",
      "text/plain": [
       "<Figure size 576x576 with 2 Axes>"
      ]
     },
     "metadata": {
      "needs_background": "light"
     },
     "output_type": "display_data"
    }
   ],
   "source": [
    "acc = history.history['accuracy']\n",
    "val_acc = history.history['val_accuracy']\n",
    "\n",
    "loss = history.history['loss']\n",
    "val_loss = history.history['val_loss']\n",
    "\n",
    "epochs_range = range(epochs)\n",
    "\n",
    "plt.figure(figsize=(8, 8))\n",
    "plt.subplot(1, 2, 1)\n",
    "plt.plot(epochs_range, acc, label='Training Accuracy')\n",
    "plt.plot(epochs_range, val_acc, label='Validation Accuracy')\n",
    "plt.legend(loc='lower right')\n",
    "plt.title('Training and Validation Accuracy')\n",
    "\n",
    "plt.subplot(1, 2, 2)\n",
    "plt.plot(epochs_range, loss, label='Training Loss')\n",
    "plt.plot(epochs_range, val_loss, label='Validation Loss')\n",
    "plt.legend(loc='upper right')\n",
    "plt.title('Training and Validation Loss')\n",
    "plt.show()"
   ]
  },
  {
   "cell_type": "markdown",
   "metadata": {
    "id": "y9oSdczFcgX8"
   },
   "source": [
    "### Model Evaluation"
   ]
  },
  {
   "cell_type": "code",
   "execution_count": 23,
   "metadata": {
    "colab": {
     "base_uri": "https://localhost:8080/"
    },
    "executionInfo": {
     "elapsed": 15990,
     "status": "ok",
     "timestamp": 1648504461611,
     "user": {
      "displayName": "Prava Thapa",
      "photoUrl": "https://lh3.googleusercontent.com/a-/AOh14GgnZ-HVoYwEXGvPeCNwrRZ5SXeOfy1EVrSS-CQPTg=s64",
      "userId": "05351308458563469837"
     },
     "user_tz": -120
    },
    "id": "3z2SHauW6b9k",
    "outputId": "de9e9af8-be77-4137-ce64-30c922a1b1a3"
   },
   "outputs": [
    {
     "data": {
      "text/plain": [
       "[0.0010276869870722294, 0.9996528029441833]"
      ]
     },
     "execution_count": 23,
     "metadata": {},
     "output_type": "execute_result"
    }
   ],
   "source": [
    "#Model Evaluation on training data\n",
    "\n",
    "model.evaluate_generator(generator=train_set, steps=len(train_set))"
   ]
  },
  {
   "cell_type": "code",
   "execution_count": 24,
   "metadata": {
    "colab": {
     "base_uri": "https://localhost:8080/"
    },
    "executionInfo": {
     "elapsed": 2780,
     "status": "ok",
     "timestamp": 1648504469668,
     "user": {
      "displayName": "Prava Thapa",
      "photoUrl": "https://lh3.googleusercontent.com/a-/AOh14GgnZ-HVoYwEXGvPeCNwrRZ5SXeOfy1EVrSS-CQPTg=s64",
      "userId": "05351308458563469837"
     },
     "user_tz": -120
    },
    "id": "C6TrN5HbgJvl",
    "outputId": "dc3a9baa-a0f5-4a35-a776-53087f2f2d91"
   },
   "outputs": [
    {
     "data": {
      "text/plain": [
       "[0.0012664173264056444, 0.9995726346969604]"
      ]
     },
     "execution_count": 24,
     "metadata": {},
     "output_type": "execute_result"
    }
   ],
   "source": [
    "#Model Evaluation on validation data\n",
    "model.evaluate_generator(generator=validation_set, steps=len(validation_set))"
   ]
  },
  {
   "cell_type": "code",
   "execution_count": 25,
   "metadata": {
    "colab": {
     "base_uri": "https://localhost:8080/"
    },
    "executionInfo": {
     "elapsed": 2688,
     "status": "ok",
     "timestamp": 1648504475521,
     "user": {
      "displayName": "Prava Thapa",
      "photoUrl": "https://lh3.googleusercontent.com/a-/AOh14GgnZ-HVoYwEXGvPeCNwrRZ5SXeOfy1EVrSS-CQPTg=s64",
      "userId": "05351308458563469837"
     },
     "user_tz": -120
    },
    "id": "rFTNXyDN7Cua",
    "outputId": "1e33116a-7d91-454c-e820-a9bdfd0737a0"
   },
   "outputs": [
    {
     "data": {
      "text/plain": [
       "[0.0021644297521561384, 0.9991452693939209]"
      ]
     },
     "execution_count": 25,
     "metadata": {},
     "output_type": "execute_result"
    }
   ],
   "source": [
    "#Model Evaluation on test data which contains images that were not included in the training or validation sets.\n",
    "\n",
    "model.evaluate_generator(generator=test_set, steps=len(test_set))"
   ]
  }
 ],
 "metadata": {
  "colab": {
   "authorship_tag": "ABX9TyNwBc83VX64AAdLah0rmiV/",
   "collapsed_sections": [],
   "name": "Models.ipynb",
   "provenance": []
  },
  "kernelspec": {
   "display_name": "Python 3 (ipykernel)",
   "language": "python",
   "name": "python3"
  },
  "language_info": {
   "codemirror_mode": {
    "name": "ipython",
    "version": 3
   },
   "file_extension": ".py",
   "mimetype": "text/x-python",
   "name": "python",
   "nbconvert_exporter": "python",
   "pygments_lexer": "ipython3",
   "version": "3.9.7"
  }
 },
 "nbformat": 4,
 "nbformat_minor": 1
}
