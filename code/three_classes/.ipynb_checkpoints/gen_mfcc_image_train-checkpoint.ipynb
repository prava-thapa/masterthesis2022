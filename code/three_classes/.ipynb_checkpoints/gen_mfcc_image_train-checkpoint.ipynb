{
 "cells": [
  {
   "cell_type": "code",
   "execution_count": 6,
   "metadata": {
    "executionInfo": {
     "elapsed": 265,
     "status": "ok",
     "timestamp": 1648473744959,
     "user": {
      "displayName": "Prava Thapa",
      "photoUrl": "https://lh3.googleusercontent.com/a-/AOh14GgnZ-HVoYwEXGvPeCNwrRZ5SXeOfy1EVrSS-CQPTg=s64",
      "userId": "05351308458563469837"
     },
     "user_tz": -120
    },
    "id": "qrtWxl57XDv_"
   },
   "outputs": [],
   "source": [
    "import os\n",
    "import numpy as np\n",
    "import matplotlib.pyplot as plt\n",
    "%matplotlib inline\n",
    "import pathlib\n",
    "import librosa\n",
    "import librosa.display"
   ]
  },
  {
   "cell_type": "code",
   "execution_count": 7,
   "metadata": {
    "colab": {
     "base_uri": "https://localhost:8080/",
     "height": 34
    },
    "executionInfo": {
     "elapsed": 364414,
     "status": "ok",
     "timestamp": 1648475558873,
     "user": {
      "displayName": "Prava Thapa",
      "photoUrl": "https://lh3.googleusercontent.com/a-/AOh14GgnZ-HVoYwEXGvPeCNwrRZ5SXeOfy1EVrSS-CQPTg=s64",
      "userId": "05351308458563469837"
     },
     "user_tz": -120
    },
    "id": "rfPJ4Nv1e-MQ",
    "outputId": "b9f3759b-df98-4b2b-bc0f-30320ade458b"
   },
   "outputs": [
    {
     "data": {
      "text/plain": [
       "<Figure size 576x576 with 0 Axes>"
      ]
     },
     "metadata": {},
     "output_type": "display_data"
    }
   ],
   "source": [
    "fs = 44100\n",
    "plt.figure(figsize=(8,8))\n",
    "subsamples = 'down_clicks up_clicks v_noise'.split()\n",
    "for s in subsamples:\n",
    "    pathlib.Path(f'E:/Jupyter/masterthesis/data/model_data_logScaleMelSpectrogram/three_class/augmented/val/{s}').mkdir(parents=True, exist_ok=True)\n",
    "    for filename in os.listdir(f'E:/Jupyter/masterthesis/data/model_data_sound/three_class/augmented/val/{s}'):\n",
    "        \n",
    "        #loading audio\n",
    "        sub_samples = f'E:/Jupyter/masterthesis/data/model_data_sound/three_class/augmented/val/{s}/{filename}'\n",
    "        \n",
    "        #using librosa to load audio as a waveform\n",
    "        y, sr = librosa.load(sub_samples)\n",
    "        sr = sr*2\n",
    "        \n",
    "        y_ft = librosa.stft(y,\n",
    "                            n_fft=2048,\n",
    "                            hop_length = 512)\n",
    "        \n",
    "        # use the mel-scale instead of raw frequency\n",
    "        y_melScale, _ = librosa.magphase(y_ft)\n",
    "        mel_scale_sgram = librosa.feature.melspectrogram(S=y_melScale, sr=sr)\n",
    "        #librosa.display.specshow(mel_scale_sgram, x_axis = 'time', y_axis = 'mel')\n",
    "\n",
    "        # use the decibel scale to get the final Mel Spectrogram\n",
    "        y_mel_sgram = librosa.amplitude_to_db(mel_scale_sgram, ref=np.min)\n",
    "        librosa.display.specshow(y_mel_sgram, sr=sr, x_axis='time', y_axis='mel')\n",
    "        #plt.colorbar(format='%+2.0f dB')\n",
    "    \n",
    "        #print(y.shape)\n",
    "        #plt.specgram(y, NFFT=1024, Fs=fs, Fc=0, noverlap=128, cmap=cmap, sides='default', mode='default', scale='dB')\n",
    "        #plt.axis('off')\n",
    "        #plt.xlabel('Time (sec)')\n",
    "        #plt.ylabel('Hz')\n",
    "        plt.savefig(f'E:/Jupyter/masterthesis/data/model_data_logScaleMelSpectrogram/three_class/augmented/val/{s}/{filename}.png')\n",
    "        plt.clf()"
   ]
  },
  {
   "cell_type": "code",
   "execution_count": null,
   "metadata": {},
   "outputs": [],
   "source": []
  }
 ],
 "metadata": {
  "colab": {
   "authorship_tag": "ABX9TyPPBupCgsAtXEuZky1r7ujm",
   "name": "MelSpectrogram.ipynb",
   "provenance": []
  },
  "kernelspec": {
   "display_name": "Python 3 (ipykernel)",
   "language": "python",
   "name": "python3"
  },
  "language_info": {
   "codemirror_mode": {
    "name": "ipython",
    "version": 3
   },
   "file_extension": ".py",
   "mimetype": "text/x-python",
   "name": "python",
   "nbconvert_exporter": "python",
   "pygments_lexer": "ipython3",
   "version": "3.9.7"
  }
 },
 "nbformat": 4,
 "nbformat_minor": 1
}
